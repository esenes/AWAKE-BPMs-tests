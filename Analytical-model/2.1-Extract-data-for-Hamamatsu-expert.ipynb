{
 "cells": [
  {
   "cell_type": "markdown",
   "metadata": {},
   "source": [
    "# Data extraction for the Hamamatsu expert\n",
    "\n",
    "Just pull the data out of the hdf mess"
   ]
  },
  {
   "cell_type": "code",
   "execution_count": 12,
   "metadata": {},
   "outputs": [],
   "source": [
    "import numpy as np\n",
    "import matplotlib.pyplot as plt\n",
    "%matplotlib inline"
   ]
  },
  {
   "cell_type": "code",
   "execution_count": 13,
   "metadata": {},
   "outputs": [],
   "source": [
    "import h5py\n",
    "import pandas as pnd\n",
    "import glob\n",
    "import os"
   ]
  },
  {
   "cell_type": "code",
   "execution_count": 14,
   "metadata": {},
   "outputs": [],
   "source": [
    "flist = sorted(glob.glob('/Users/esenes/eos/user/e/esenes/AWAKE_streak_data/*')); fnum = len(flist)"
   ]
  },
  {
   "cell_type": "code",
   "execution_count": 16,
   "metadata": {},
   "outputs": [
    {
     "name": "stdout",
     "output_type": "stream",
     "text": [
      "Processing file 0/2112\n",
      "Processing file 100/2112\n",
      "Processing file 200/2112\n",
      "Processing file 300/2112\n",
      "Processing file 400/2112\n",
      "Processing file 500/2112\n",
      "Processing file 600/2112\n",
      "Processing file 700/2112\n",
      "Processing file 800/2112\n",
      "Processing file 900/2112\n",
      "Processing file 1000/2112\n",
      "Processing file 1100/2112\n",
      "Processing file 1200/2112\n",
      "Processing file 1300/2112\n",
      "Processing file 1400/2112\n",
      "Processing file 1500/2112\n",
      "Processing file 1600/2112\n",
      "Processing file 1700/2112\n",
      "Processing file 1800/2112\n",
      "Processing file 1900/2112\n",
      "Processing file 2000/2112\n",
      "Processing file 2100/2112\n",
      "Done.\n"
     ]
    }
   ],
   "source": [
    "# init stuff\n",
    "timestamps = []\n",
    "streakImages = []\n",
    "# parse all the files\n",
    "for k, file in enumerate(flist):\n",
    "    if np.mod(k,100) == 0:\n",
    "        print('Processing file '+str(k)+str('/')+str(fnum))\n",
    "    f = h5py.File(file, 'r')\n",
    "    timestamps.append(f['AwakeEventInfo']['timestamp'].value)\n",
    "\n",
    "    # search for when the streak camera was on\n",
    "    if type(f['AwakeEventData']['XMPP-STREAK']['StreakImage']) == h5py._hl.group.Group: \n",
    "        # dump to a dictionary and append it to the array\n",
    "        tmp_dict = dict()\n",
    "        for key in list(f['AwakeEventData']['XMPP-STREAK']['StreakImage'].keys()):\n",
    "            tmp_dict[key] = f['AwakeEventData']['XMPP-STREAK']['StreakImage'][key].value\n",
    "        streakImages.append(tmp_dict)\n",
    "        del(tmp_dict)\n",
    "    else:\n",
    "        streakImages.append(None)\n",
    "\n",
    "    f.close()\n",
    "    \n",
    "print('Done.')"
   ]
  },
  {
   "cell_type": "code",
   "execution_count": 17,
   "metadata": {},
   "outputs": [
    {
     "data": {
      "text/plain": [
       "b'[application],enconding=utf-8,date=\"02/11/2018\",time=\"14:09:17.669\",software=\"hpd-ta\",application=2,applicationtitle=\"high performance digital temporal analyzer\",softwareversion=\"9.5 pf2\",softwaredate=\"29.03.2018\"[camera],amd=e,emd=e,smd=w,spx=2,atp=p,ssp=h,esc=b,atg=o,csw=o,oss=l,pec=f,atd=0,obn=2,omd=a,sdv=\"512,0,512\",timingmode=\"external timing\",triggermode=\"edge trigger\",triggersource=\"bnc\",triggerpolarity=\"pos.\",binning=\"2 x 2\",scanmode=\"subarray\",subarrayhwidthvalue=1344,subarrayvwidthvalue=1024,binningvalue=1,scanmodevalue=2,triggerglobalexposure=\"global reset\",cooling=\"on\",defectpixelcorrection=\"off\",triggerindelay=\"0\",framebundlenumber=\"2\",trigger1outsignal=\"low\",trigger1outref=\"end of sensor readout\",trigger1outpolarity=\"negative\",trigger1outdelay=\"0\",trigger1outwidth=\"0.00001\",trigger2outsignal=\"low\",trigger2outref=\"end of sensor readout\",trigger2outpolarity=\"negative\",trigger2outdelay=\"0\",trigger2outwidth=\"0.00001\",trigger3outsignal=\"low\",trigger3outref=\"end of sensor readout\",trigger3outpolarity=\"negative\",trigger3outdelay=\"0\",trigger3outwidth=\"0.00001\",subarrayvwidth=1024,subarrayhwidth=1344,cameraname=\"c11440-22c\",serialnumber=\"100470\",type=38,subtype=82[acquisition],nrexposure=1,nrtrigger=1,exposuretime=10 ms,acqmode=2,datatype=7,datatypeofsingleimage=7,curvecorr=0,defectcorrection=0,aresource=\"0,0,672,512\",aregrbscan=\"176,0,672,512\",pntorigch=\"352,512\",pntorigfb=\"0,0\",pntbinning=\"2,2\",bytesperpixel=2,islinedata=0,backsubcorr=0,shadingcorr=0,zaxislabel=intensity,zaxisunit=count,mimirrorrotate=0[grabber],applet=\"acq_fullareagray8.dll\",type=11,subtype=3[displaylut],entrysize=7,lowervalue=0,uppervalue=65535,lowervalueex=0,uppervalueex=65535,bitrange=\"16u bit\",color=2,luttype=0,lutinverted=0,autolutinlivemode=0,displaynegative=0,gamma=1,first812ovlcol=1,lut16xshift=0,lut16xovlval=32767[externaldevices],triggerdelay=150,posttriggertime=10,exposuretime=10,tdstatuscableconnected=0,connectmonitorout=0,connectresetin=0,triggermethod=2,usedtbe=0,exptimeaddmultiple=-1,dontsendreset=0,multipleofsweep=1,a6538connected=0,counterboardinstalled=0,motorizedslitinstalled=-1,usespecasmono=0,gpibinstalled=0,counterboardiobase=0,motorizedslitportid=4,gpibiobase=0[streak camera],usedevice=-1,devicename=\"c10910\",pluginname=\"m10912-01\",installedoption0=m10914-01,gpibcableconnected=0,gpibbase=0,time range=\"1 ns\",mode=\"operate\",gate mode=\"normal\",mcp gain=\"40\",shutter=\"open\",trig. mode=\"single\",trigger status=\"reset\",trig. level=\"0.3\",trig. slope=\"rising\",focustimeover=\"5\",slit width=\"20\"[spectrograph],usedevice=0[delay box],usedevice=0[delay2 box],usedevice=0[scaling],scalingxtype=1,scalingxscale=2,scalingxunit=\"\",scalingxscalingfile=\"other\",scalingytype=1,scalingyscale=2,scalingyunit=\"no calibration\",scalingyscalingfile=\"\"'"
      ]
     },
     "execution_count": 17,
     "metadata": {},
     "output_type": "execute_result"
    }
   ],
   "source": [
    "streakImages[1440]['streakImageInfo'][0]"
   ]
  },
  {
   "cell_type": "code",
   "execution_count": 18,
   "metadata": {},
   "outputs": [
    {
     "data": {
      "text/plain": [
       "<matplotlib.image.AxesImage at 0x12da99550>"
      ]
     },
     "execution_count": 18,
     "metadata": {},
     "output_type": "execute_result"
    },
    {
     "data": {
      "image/png": "[encoded data removed]",
      "text/plain": [
       "<Figure size 432x288 with 1 Axes>"
      ]
     },
     "metadata": {
      "needs_background": "light"
     },
     "output_type": "display_data"
    }
   ],
   "source": [
    "plt.imshow(np.reshape(streakImages[1440]['streakImageData'], (512, 672)).T)"
   ]
  },
  {
   "cell_type": "code",
   "execution_count": 38,
   "metadata": {},
   "outputs": [
    {
     "data": {
      "text/plain": [
       "(340000.0, 345000.0)"
      ]
     },
     "execution_count": 38,
     "metadata": {},
     "output_type": "execute_result"
    },
    {
     "data": {
      "image/png": "[encoded data removed]",
      "text/plain": [
       "<Figure size 432x288 with 1 Axes>"
      ]
     },
     "metadata": {
      "needs_background": "light"
     },
     "output_type": "display_data"
    }
   ],
   "source": [
    "plt.plot(streakImages[1440]['streakImageData'],'o')\n",
    "plt.ylim(2e4,3e4)\n",
    "plt.xlim(3.4e5,3.45e5)"
   ]
  },
  {
   "cell_type": "code",
   "execution_count": null,
   "metadata": {},
   "outputs": [],
   "source": []
  },
  {
   "cell_type": "code",
   "execution_count": 107,
   "metadata": {},
   "outputs": [],
   "source": [
    "import pickle\n",
    "with open('example.pkl', 'wb') as f:\n",
    "    pickle.dump(streakImages[1440], f, pickle.HIGHEST_PROTOCOL)"
   ]
  },
  {
   "cell_type": "code",
   "execution_count": 113,
   "metadata": {},
   "outputs": [],
   "source": [
    "with open('example.pkl', 'rb') as f:\n",
    "    myFile = pickle.load(f)"
   ]
  },
  {
   "cell_type": "code",
   "execution_count": 115,
   "metadata": {},
   "outputs": [
    {
     "data": {
      "text/plain": [
       "{'streakImageBinning': array([b'2 x 2'], dtype='|S5'),\n",
       " 'streakImageData': array([436, 417, 430, ..., 410, 431, 419], dtype=int32),\n",
       " 'streakImageExposureTime': array([b'10 ms'], dtype='|S5'),\n",
       " 'streakImageHeight': array([512]),\n",
       " 'streakImageInfo': array([b'[application],enconding=utf-8,date=\"02/11/2018\",time=\"14:09:17.669\",software=\"hpd-ta\",application=2,applicationtitle=\"high performance digital temporal analyzer\",softwareversion=\"9.5 pf2\",softwaredate=\"29.03.2018\"[camera],amd=e,emd=e,smd=w,spx=2,atp=p,ssp=h,esc=b,atg=o,csw=o,oss=l,pec=f,atd=0,obn=2,omd=a,sdv=\"512,0,512\",timingmode=\"external timing\",triggermode=\"edge trigger\",triggersource=\"bnc\",triggerpolarity=\"pos.\",binning=\"2 x 2\",scanmode=\"subarray\",subarrayhwidthvalue=1344,subarrayvwidthvalue=1024,binningvalue=1,scanmodevalue=2,triggerglobalexposure=\"global reset\",cooling=\"on\",defectpixelcorrection=\"off\",triggerindelay=\"0\",framebundlenumber=\"2\",trigger1outsignal=\"low\",trigger1outref=\"end of sensor readout\",trigger1outpolarity=\"negative\",trigger1outdelay=\"0\",trigger1outwidth=\"0.00001\",trigger2outsignal=\"low\",trigger2outref=\"end of sensor readout\",trigger2outpolarity=\"negative\",trigger2outdelay=\"0\",trigger2outwidth=\"0.00001\",trigger3outsignal=\"low\",trigger3outref=\"end of sensor readout\",trigger3outpolarity=\"negative\",trigger3outdelay=\"0\",trigger3outwidth=\"0.00001\",subarrayvwidth=1024,subarrayhwidth=1344,cameraname=\"c11440-22c\",serialnumber=\"100470\",type=38,subtype=82[acquisition],nrexposure=1,nrtrigger=1,exposuretime=10 ms,acqmode=2,datatype=7,datatypeofsingleimage=7,curvecorr=0,defectcorrection=0,aresource=\"0,0,672,512\",aregrbscan=\"176,0,672,512\",pntorigch=\"352,512\",pntorigfb=\"0,0\",pntbinning=\"2,2\",bytesperpixel=2,islinedata=0,backsubcorr=0,shadingcorr=0,zaxislabel=intensity,zaxisunit=count,mimirrorrotate=0[grabber],applet=\"acq_fullareagray8.dll\",type=11,subtype=3[displaylut],entrysize=7,lowervalue=0,uppervalue=65535,lowervalueex=0,uppervalueex=65535,bitrange=\"16u bit\",color=2,luttype=0,lutinverted=0,autolutinlivemode=0,displaynegative=0,gamma=1,first812ovlcol=1,lut16xshift=0,lut16xovlval=32767[externaldevices],triggerdelay=150,posttriggertime=10,exposuretime=10,tdstatuscableconnected=0,connectmonitorout=0,connectresetin=0,triggermethod=2,usedtbe=0,exptimeaddmultiple=-1,dontsendreset=0,multipleofsweep=1,a6538connected=0,counterboardinstalled=0,motorizedslitinstalled=-1,usespecasmono=0,gpibinstalled=0,counterboardiobase=0,motorizedslitportid=4,gpibiobase=0[streak camera],usedevice=-1,devicename=\"c10910\",pluginname=\"m10912-01\",installedoption0=m10914-01,gpibcableconnected=0,gpibbase=0,time range=\"1 ns\",mode=\"operate\",gate mode=\"normal\",mcp gain=\"40\",shutter=\"open\",trig. mode=\"single\",trigger status=\"reset\",trig. level=\"0.3\",trig. slope=\"rising\",focustimeover=\"5\",slit width=\"20\"[spectrograph],usedevice=0[delay box],usedevice=0[delay2 box],usedevice=0[scaling],scalingxtype=1,scalingxscale=2,scalingxunit=\"\",scalingxscalingfile=\"other\",scalingytype=1,scalingyscale=2,scalingyunit=\"no calibration\",scalingyscalingfile=\"\"'],\n",
       "       dtype='|S2764'),\n",
       " 'streakImageMcpGain': array([40]),\n",
       " 'streakImageMode': array([b'operate'], dtype='|S7'),\n",
       " 'streakImageProjection': array([ 430.2782 ,  432.28574,  427.66394,  427.33618,  428.40814,\n",
       "         429.32578,  426.9925 ,  429.63382,  428.71875,  429.27667,\n",
       "         429.03433,  431.17096,  429.99432,  430.0938 ,  434.02225,\n",
       "         429.97034,  427.4479 ,  428.81403,  431.07574,  429.16827,\n",
       "         431.19186,  431.6624 ,  431.47906,  433.81985,  434.47784,\n",
       "         435.98962,  443.235  ,  436.31534,  437.0534 ,  436.06085,\n",
       "         435.92572,  434.2619 ,  434.9522 ,  437.9535 ,  440.2427 ,\n",
       "         445.22324,  444.24878,  449.49988,  448.63556,  444.49133,\n",
       "         443.2827 ,  443.0979 ,  442.79623,  443.97903,  448.33047,\n",
       "         452.8946 ,  460.92416,  478.52692,  489.30066,  493.72308,\n",
       "         490.83484,  501.4986 ,  502.99252,  499.93292,  497.4628 ,\n",
       "         502.6398 ,  512.3124 ,  517.87524,  532.15784,  548.3271 ,\n",
       "         566.55054,  578.1691 ,  592.6739 ,  592.5563 ,  582.6059 ,\n",
       "         571.0048 ,  560.1638 ,  561.7187 ,  564.7576 ,  567.31256,\n",
       "         579.75165,  580.26184,  571.8945 ,  569.1798 ,  560.6488 ,\n",
       "         551.5561 ,  556.3929 ,  570.50287,  591.87177,  600.28735,\n",
       "         617.6635 ,  631.74286,  650.02216,  669.62506,  688.67993,\n",
       "         699.54016,  698.0682 ,  729.6549 ,  790.8268 ,  822.38794,\n",
       "         809.57715,  792.83734,  814.08044,  850.72504,  881.66016,\n",
       "         896.5316 ,  903.8631 ,  895.93286,  897.3753 ,  928.0364 ,\n",
       "         958.8768 ,  985.4706 ,  994.6724 ,  982.08   ,  967.0018 ,\n",
       "         958.245  ,  967.2278 ,  992.02673, 1030.4377 , 1077.2561 ,\n",
       "        1101.8706 , 1122.2069 , 1122.7006 , 1107.6497 , 1096.8978 ,\n",
       "        1081.2126 , 1063.3254 , 1090.5992 , 1128.2303 , 1136.0697 ,\n",
       "        1144.704  , 1176.9526 , 1239.6813 , 1275.6228 , 1236.1456 ,\n",
       "        1189.3953 , 1154.1807 , 1151.0162 , 1135.2616 , 1142.8867 ,\n",
       "        1196.1576 , 1252.7822 , 1269.1497 , 1240.4006 , 1235.2689 ,\n",
       "        1257.4214 , 1316.0171 , 1340.5651 , 1347.2737 , 1360.392  ,\n",
       "        1361.6792 , 1356.2592 , 1308.0623 , 1322.7668 , 1353.6626 ,\n",
       "        1354.4104 , 1379.3634 , 1364.2825 , 1357.8126 , 1334.0582 ,\n",
       "        1344.2075 , 1358.2938 , 1374.566  , 1422.5206 , 1444.4108 ,\n",
       "        1460.925  , 1468.6534 , 1491.1721 , 1473.612  , 1434.1815 ,\n",
       "        1441.685  , 1468.6313 , 1527.5858 , 1595.2992 , 1609.6879 ,\n",
       "        1629.7979 , 1628.2914 , 1603.485  , 1555.445  , 1574.7267 ,\n",
       "        1576.1327 , 1580.3528 , 1602.023  , 1627.5616 , 1645.0195 ,\n",
       "        1663.1313 , 1657.8903 , 1636.4933 , 1610.9429 , 1598.4945 ,\n",
       "        1625.1523 , 1681.5426 , 1686.7717 , 1688.6927 , 1727.0186 ,\n",
       "        1734.47   , 1695.39   , 1659.6843 , 1658.5087 , 1652.1754 ,\n",
       "        1629.3352 , 1648.6111 , 1675.1165 , 1720.2574 , 1747.653  ,\n",
       "        1739.8953 , 1742.2561 , 1748.7975 , 1753.4548 , 1743.1841 ,\n",
       "        1697.3499 , 1714.8528 , 1725.9127 , 1733.7765 , 1750.4119 ,\n",
       "        1743.1733 , 1739.0939 , 1714.0435 , 1707.1555 , 1679.698  ,\n",
       "        1661.414  , 1699.4315 , 1732.4266 , 1741.7892 , 1760.5472 ,\n",
       "        1844.2281 , 1900.42   , 1913.779  , 1812.6145 , 1744.8741 ,\n",
       "        1768.2659 , 1825.6818 , 1889.4802 , 1912.7369 , 1846.3696 ,\n",
       "        1818.9006 , 1837.6871 , 1852.2164 , 1875.7592 , 1863.1621 ,\n",
       "        1800.0037 , 1780.4475 , 1802.6945 , 1786.9128 , 1753.2592 ,\n",
       "        1748.5438 , 1789.9043 , 1808.9958 , 1778.9921 , 1762.6293 ,\n",
       "        1766.0957 , 1727.6072 , 1697.7192 , 1721.3147 , 1776.1163 ,\n",
       "        1796.6621 , 1815.0245 , 1846.4697 , 1851.9592 , 1828.7432 ,\n",
       "        1798.6161 , 1801.2145 , 1837.8262 , 1841.0696 , 1843.2738 ,\n",
       "        1860.1635 , 1846.2598 , 1809.406  , 1792.4238 , 1764.2384 ,\n",
       "        1759.831  , 1766.083  , 1758.1658 , 1737.2777 , 1750.7432 ,\n",
       "        1802.4951 , 1843.4509 , 1791.0758 , 1758.177  , 1753.6013 ,\n",
       "        1744.7106 , 1776.1038 , 1806.29   , 1763.8718 , 1709.1366 ,\n",
       "        1713.2186 , 1701.9224 , 1685.1835 , 1661.8035 , 1689.0305 ,\n",
       "        1760.1356 , 1793.2269 , 1798.1604 , 1810.9575 , 1817.5312 ,\n",
       "        1817.116  , 1898.1052 , 1780.3695 , 1773.5363 , 1755.3961 ,\n",
       "        1768.4528 , 1794.6802 , 1810.8102 , 1830.4059 , 1830.1185 ,\n",
       "        1838.9164 , 1813.7129 , 1768.0336 , 1765.9858 , 1809.8113 ,\n",
       "        1822.3516 , 1830.123  , 1813.3351 , 1796.9105 , 1814.9152 ,\n",
       "        1821.3134 , 1821.1085 , 1790.9327 , 1752.1357 , 1728.6133 ,\n",
       "        1719.6001 , 1739.3457 , 1720.7097 , 1692.3859 , 1698.54   ,\n",
       "        1693.9883 , 1643.0239 , 1627.9451 , 1634.6184 , 1616.5967 ,\n",
       "        1605.6588 , 1642.5256 , 1715.1686 , 1731.7448 , 1671.7113 ,\n",
       "        1628.1261 , 1638.6658 , 1649.4187 , 1643.9603 , 1650.3888 ,\n",
       "        1647.4385 , 1629.8037 , 1613.8683 , 1628.4086 , 1630.1024 ,\n",
       "        1591.1888 , 1569.2382 , 1527.8375 , 1456.5259 , 1428.1309 ,\n",
       "        1425.8126 , 1452.9227 , 1454.4935 , 1432.4229 , 1420.5759 ,\n",
       "        1409.0106 , 1393.1104 , 1368.4246 , 1364.8032 , 1377.8883 ,\n",
       "        1359.4541 , 1333.3102 , 1329.815  , 1341.7856 , 1366.2119 ,\n",
       "        1385.7764 , 1372.8125 , 1356.5712 , 1359.6151 , 1325.4143 ,\n",
       "        1276.104  , 1247.9176 , 1226.5503 , 1214.3594 , 1223.065  ,\n",
       "        1261.3901 , 1269.2056 , 1263.4595 , 1310.3947 , 1361.5009 ,\n",
       "        1368.1453 , 1342.658  , 1316.3207 , 1289.6283 , 1258.412  ,\n",
       "        1215.6411 , 1191.5887 , 1177.0753 , 1141.9166 , 1106.1653 ,\n",
       "        1111.7174 , 1111.8989 , 1114.0897 , 1097.2631 , 1093.756  ,\n",
       "        1094.7867 , 1080.3185 , 1065.3082 , 1076.0652 , 1081.2007 ,\n",
       "        1089.258  , 1104.6912 , 1100.8895 , 1093.4276 , 1112.3245 ,\n",
       "        1133.146  , 1110.0135 , 1085.7915 , 1088.3969 , 1075.1743 ,\n",
       "        1054.1943 , 1043.1813 , 1013.92676,  997.1638 ,  995.5995 ,\n",
       "         967.38696,  934.63257,  939.2691 ,  954.91174,  957.90594,\n",
       "         928.6574 ,  888.8238 ,  887.3957 ,  876.3746 ,  877.8399 ,\n",
       "         918.8302 ,  945.3463 ,  946.7663 ,  922.16235,  899.31683,\n",
       "         886.1133 ,  869.245  ,  862.13995,  858.90045,  839.6102 ,\n",
       "         826.5664 ,  828.28546,  823.13385,  812.12164,  792.304  ,\n",
       "         779.76935,  760.8009 ,  738.1489 ,  726.7173 ,  724.0895 ,\n",
       "         712.73987,  699.5854 ,  699.503  ,  698.0522 ,  671.5727 ,\n",
       "         634.52246,  611.82324,  607.20233,  616.0998 ,  618.1915 ,\n",
       "         594.81525,  569.7991 ,  556.6249 ,  544.5401 ,  531.7067 ,\n",
       "         525.8363 ,  525.8557 ,  522.8422 ,  529.17126,  541.3051 ,\n",
       "         538.4016 ,  531.46716,  520.3439 ,  512.59503,  505.89294,\n",
       "         504.67688,  507.0058 ,  503.86603,  506.71768,  512.9082 ,\n",
       "         512.59076,  516.88544,  507.06555,  508.43442,  511.99106,\n",
       "         516.694  ,  513.34216,  508.01175,  496.38712,  491.40353,\n",
       "         485.44006,  483.0891 ,  475.1409 ,  470.21857,  461.70108,\n",
       "         461.96252,  467.33023,  476.28568,  478.3768 ,  480.36295,\n",
       "         476.86142,  470.66498,  461.07037,  454.03848,  447.93762,\n",
       "         439.08896,  433.55695,  431.30045,  432.47778,  433.4242 ,\n",
       "         437.14606,  435.7784 ,  430.77646,  427.78876,  429.58493,\n",
       "         429.89264,  433.68756,  432.15933,  429.24423,  428.2155 ,\n",
       "         426.50128,  427.24542,  425.24838,  425.6218 ,  431.43018,\n",
       "         433.2203 ,  432.34827], dtype=float32),\n",
       " 'streakImageTime': array([b'14:09:17.669'], dtype='|S12'),\n",
       " 'streakImageTimeRange': array([b'1 ns'], dtype='|S4'),\n",
       " 'streakImageTimeValues': array([2.21160319e+000, 4.42371933e+000, 6.63634559e+000, 8.84947913e+000,\n",
       "        1.10631171e+001, 1.32772567e+001, 1.54918951e+001, 1.77070294e+001,\n",
       "        1.99226569e+001, 2.21387746e+001, 2.43553797e+001, 2.65724694e+001,\n",
       "        2.87900410e+001, 3.10080914e+001, 3.32266179e+001, 3.54456177e+001,\n",
       "        3.76650880e+001, 3.98850258e+001, 4.21054283e+001, 4.43262928e+001,\n",
       "        4.65476164e+001, 4.87693962e+001, 5.09916294e+001, 5.32143133e+001,\n",
       "        5.54374448e+001, 5.76610213e+001, 5.98850398e+001, 6.21094976e+001,\n",
       "        6.43343918e+001, 6.65597195e+001, 6.87854780e+001, 7.10116644e+001,\n",
       "        7.32382759e+001, 7.54653095e+001, 7.76927626e+001, 7.99206322e+001,\n",
       "        8.21489156e+001, 8.43776098e+001, 8.66067121e+001, 8.88362196e+001,\n",
       "        9.10661294e+001, 9.32964389e+001, 9.55271450e+001, 9.77582450e+001,\n",
       "        9.99897361e+001, 1.02221615e+002, 1.04453880e+002, 1.06686527e+002,\n",
       "        1.08919554e+002, 1.11152958e+002, 1.13386735e+002, 1.15620884e+002,\n",
       "        1.17855402e+002, 1.20090284e+002, 1.22325530e+002, 1.24561135e+002,\n",
       "        1.26797098e+002, 1.29033414e+002, 1.31270082e+002, 1.33507099e+002,\n",
       "        1.35744461e+002, 1.37982166e+002, 1.40220211e+002, 1.42458593e+002,\n",
       "        1.44697309e+002, 1.46936357e+002, 1.49175734e+002, 1.51415436e+002,\n",
       "        1.53655462e+002, 1.55895807e+002, 1.58136470e+002, 1.60377448e+002,\n",
       "        1.62618737e+002, 1.64860335e+002, 1.67102238e+002, 1.69344446e+002,\n",
       "        1.71586953e+002, 1.73829758e+002, 1.76072857e+002, 1.78316248e+002,\n",
       "        1.80559929e+002, 1.82803895e+002, 1.85048145e+002, 1.87292675e+002,\n",
       "        1.89537483e+002, 1.91782565e+002, 1.94027920e+002, 1.96273543e+002,\n",
       "        1.98519433e+002, 2.00765587e+002, 2.03012001e+002, 2.05258673e+002,\n",
       "        2.07505599e+002, 2.09752778e+002, 2.12000206e+002, 2.14247881e+002,\n",
       "        2.16495799e+002, 2.18743958e+002, 2.20992355e+002, 2.23240987e+002,\n",
       "        2.25489852e+002, 2.27738945e+002, 2.29988266e+002, 2.32237810e+002,\n",
       "        2.34487575e+002, 2.36737558e+002, 2.38987756e+002, 2.41238167e+002,\n",
       "        2.43488788e+002, 2.45739615e+002, 2.47990646e+002, 2.50241878e+002,\n",
       "        2.52493308e+002, 2.54744934e+002, 2.56996752e+002, 2.59248761e+002,\n",
       "        2.61500956e+002, 2.63753335e+002, 2.66005895e+002, 2.68258634e+002,\n",
       "        2.70511548e+002, 2.72764635e+002, 2.75017892e+002, 2.77271316e+002,\n",
       "        2.79524904e+002, 2.81778654e+002, 2.84032562e+002, 2.86286626e+002,\n",
       "        2.88540842e+002, 2.90795209e+002, 2.93049723e+002, 2.95304382e+002,\n",
       "        2.97559182e+002, 2.99814120e+002, 3.02069195e+002, 3.04324402e+002,\n",
       "        3.06579740e+002, 3.08835205e+002, 3.11090795e+002, 3.13346506e+002,\n",
       "        3.15602336e+002, 3.17858282e+002, 3.20114342e+002, 3.22370512e+002,\n",
       "        3.24626789e+002, 3.26883171e+002, 3.29139655e+002, 3.31396238e+002,\n",
       "        3.33652917e+002, 3.35909689e+002, 3.38166552e+002, 3.40423502e+002,\n",
       "        3.42680538e+002, 3.44937655e+002, 3.47194852e+002, 3.49452125e+002,\n",
       "        3.51709471e+002, 3.53966888e+002, 3.56224373e+002, 3.58481923e+002,\n",
       "        3.60739535e+002, 3.62997206e+002, 3.65254934e+002, 3.67512715e+002,\n",
       "        3.69770548e+002, 3.72028428e+002, 3.74286353e+002, 3.76544321e+002,\n",
       "        3.78802328e+002, 3.81060372e+002, 3.83318450e+002, 3.85576558e+002,\n",
       "        3.87834695e+002, 3.90092857e+002, 3.92351042e+002, 3.94609246e+002,\n",
       "        3.96867467e+002, 3.99125702e+002, 4.01383948e+002, 4.03642202e+002,\n",
       "        4.05900462e+002, 4.08158724e+002, 4.10416986e+002, 4.12675246e+002,\n",
       "        4.14933499e+002, 4.17191743e+002, 4.19449976e+002, 4.21708195e+002,\n",
       "        4.23966396e+002, 4.26224577e+002, 4.28482736e+002, 4.30740868e+002,\n",
       "        4.32998972e+002, 4.35257045e+002, 4.37515083e+002, 4.39773085e+002,\n",
       "        4.42031046e+002, 4.44288965e+002, 4.46546838e+002, 4.48804663e+002,\n",
       "        4.51062436e+002, 4.53320155e+002, 4.55577818e+002, 4.57835420e+002,\n",
       "        4.60092961e+002, 4.62350435e+002, 4.64607842e+002, 4.66865177e+002,\n",
       "        4.69122438e+002, 4.71379623e+002, 4.73636728e+002, 4.75893750e+002,\n",
       "        4.78150688e+002, 4.80407537e+002, 4.82664295e+002, 4.84920959e+002,\n",
       "        4.87177527e+002, 4.89433996e+002, 4.91690362e+002, 4.93946623e+002,\n",
       "        4.96202776e+002, 4.98458818e+002, 5.00714746e+002, 5.02970559e+002,\n",
       "        5.05226251e+002, 5.07481822e+002, 5.09737268e+002, 5.11992586e+002,\n",
       "        5.14247773e+002, 5.16502827e+002, 5.18757744e+002, 5.21012523e+002,\n",
       "        5.23267159e+002, 5.25521651e+002, 5.27775995e+002, 5.30030188e+002,\n",
       "        5.32284228e+002, 5.34538112e+002, 5.36791837e+002, 5.39045401e+002,\n",
       "        5.41298799e+002, 5.43552030e+002, 5.45805091e+002, 5.48057978e+002,\n",
       "        5.50310690e+002, 5.52563223e+002, 5.54815574e+002, 5.57067740e+002,\n",
       "        5.59319719e+002, 5.61571508e+002, 5.63823104e+002, 5.66074504e+002,\n",
       "        5.68325706e+002, 5.70576706e+002, 5.72827501e+002, 5.75078090e+002,\n",
       "        5.77328468e+002, 5.79578634e+002, 5.81828584e+002, 5.84078315e+002,\n",
       "        5.86327825e+002, 5.88577111e+002, 5.90826169e+002, 5.93074998e+002,\n",
       "        5.95323594e+002, 5.97571955e+002, 5.99820077e+002, 6.02067958e+002,\n",
       "        6.04315595e+002, 6.06562985e+002, 6.08810126e+002, 6.11057013e+002,\n",
       "        6.13303646e+002, 6.15550020e+002, 6.17796133e+002, 6.20041982e+002,\n",
       "        6.22287565e+002, 6.24532878e+002, 6.26777919e+002, 6.29022684e+002,\n",
       "        6.31267171e+002, 6.33511377e+002, 6.35755300e+002, 6.37998936e+002,\n",
       "        6.40242283e+002, 6.42485337e+002, 6.44728097e+002, 6.46970558e+002,\n",
       "        6.49212719e+002, 6.51454576e+002, 6.53696126e+002, 6.55937368e+002,\n",
       "        6.58178297e+002, 6.60418912e+002, 6.62659208e+002, 6.64899184e+002,\n",
       "        6.67138837e+002, 6.69378163e+002, 6.71617161e+002, 6.73855826e+002,\n",
       "        6.76094157e+002, 6.78332149e+002, 6.80569802e+002, 6.82807111e+002,\n",
       "        6.85044074e+002, 6.87280688e+002, 6.89516951e+002, 6.91752859e+002,\n",
       "        6.93988409e+002, 6.96223599e+002, 6.98458426e+002, 7.00692887e+002,\n",
       "        7.02926979e+002, 7.05160699e+002, 7.07394045e+002, 7.09627014e+002,\n",
       "        7.11859603e+002, 7.14091808e+002, 7.16323628e+002, 7.18555059e+002,\n",
       "        7.20786099e+002, 7.23016745e+002, 7.25246993e+002, 7.27476841e+002,\n",
       "        7.29706287e+002, 7.31935327e+002, 7.34163958e+002, 7.36392178e+002,\n",
       "        7.38619984e+002, 7.40847373e+002, 7.43074342e+002, 7.45300888e+002,\n",
       "        7.47527009e+002, 7.49752701e+002, 7.51977963e+002, 7.54202790e+002,\n",
       "        7.56427181e+002, 7.58651132e+002, 7.60874640e+002, 7.63097703e+002,\n",
       "        7.65320318e+002, 7.67542482e+002, 7.69764192e+002, 7.71985445e+002,\n",
       "        7.74206239e+002, 7.76426570e+002, 7.78646436e+002, 7.80865835e+002,\n",
       "        7.83084762e+002, 7.85303216e+002, 7.87521193e+002, 7.89738690e+002,\n",
       "        7.91955706e+002, 7.94172237e+002, 7.96388279e+002, 7.98603831e+002,\n",
       "        8.00818889e+002, 8.03033451e+002, 8.05247514e+002, 8.07461075e+002,\n",
       "        8.09674131e+002, 8.11886679e+002, 8.14098717e+002, 8.16310241e+002,\n",
       "        8.18521249e+002, 8.20731738e+002, 8.22941705e+002, 8.25151147e+002,\n",
       "        8.27360062e+002, 8.29568446e+002, 8.31776297e+002, 8.33983612e+002,\n",
       "        8.36190388e+002, 8.38396623e+002, 8.40602312e+002, 8.42807455e+002,\n",
       "        8.45012047e+002, 8.47216086e+002, 8.49419569e+002, 8.51622494e+002,\n",
       "        8.53824856e+002, 8.56026655e+002, 8.58227886e+002, 8.60428547e+002,\n",
       "        8.62628635e+002, 8.64828147e+002, 8.67027081e+002, 8.69225433e+002,\n",
       "        8.71423201e+002, 8.73620382e+002, 8.75816973e+002, 8.78012972e+002,\n",
       "        8.80208374e+002, 8.82403178e+002, 8.84597381e+002, 8.86790980e+002,\n",
       "        8.88983972e+002, 8.91176354e+002, 8.93368123e+002, 8.95559277e+002,\n",
       "        8.97749813e+002, 8.99939727e+002, 9.02129018e+002, 9.04317682e+002,\n",
       "        9.06505716e+002, 9.08693118e+002, 9.10879884e+002, 9.13066012e+002,\n",
       "        9.15251500e+002, 9.17436343e+002, 9.19620540e+002, 9.21804087e+002,\n",
       "        9.23986982e+002, 9.26169222e+002, 9.28350804e+002, 9.30531725e+002,\n",
       "        9.32711982e+002, 9.34891573e+002, 9.37070495e+002, 9.39248744e+002,\n",
       "        9.41426319e+002, 9.43603216e+002, 9.45779431e+002, 9.47954964e+002,\n",
       "        9.50129810e+002, 9.52303967e+002, 9.54477432e+002, 9.56650202e+002,\n",
       "        9.58822275e+002, 9.60993646e+002, 9.63164315e+002, 9.65334277e+002,\n",
       "        9.67503531e+002, 9.69672072e+002, 9.71839899e+002, 9.74007008e+002,\n",
       "        9.76173397e+002, 9.78339063e+002, 9.80504003e+002, 9.82668214e+002,\n",
       "        9.84831693e+002, 9.86994437e+002, 9.89156445e+002, 9.91317712e+002,\n",
       "        9.93478236e+002, 9.95638014e+002, 9.97797043e+002, 9.99955321e+002,\n",
       "        1.00211284e+003, 1.00426961e+003, 1.00642562e+003, 1.00858086e+003,\n",
       "        1.01073534e+003, 1.01288905e+003, 1.01504198e+003, 1.01719415e+003,\n",
       "        1.01934554e+003, 1.02149614e+003, 1.02364597e+003, 1.02579500e+003,\n",
       "        1.02794325e+003, 1.03009071e+003, 1.03223738e+003, 1.03438324e+003,\n",
       "        1.03652831e+003, 1.03867258e+003, 1.04081604e+003, 1.04295869e+003,\n",
       "        1.04510053e+003, 1.04724156e+003, 1.04938177e+003, 1.05152115e+003,\n",
       "        1.05365972e+003, 1.05579747e+003, 1.05793438e+003, 1.06007046e+003,\n",
       "        1.06220571e+003, 1.06434013e+003, 1.06647370e+003, 1.06860643e+003,\n",
       "        1.07073832e+003, 1.07286936e+003, 1.07499954e+003, 1.07712888e+003,\n",
       "        1.07925735e+003, 1.08138497e+003, 1.08351173e+003, 1.08563762e+003,\n",
       "        1.08776264e+003, 1.08988680e+003, 1.09201008e+003, 1.09413248e+003,\n",
       "        1.09625400e+003, 1.09837465e+003, 1.10049440e+003, 1.10261327e+003,\n",
       "        1.10473125e+003, 1.10684834e+003, 1.10896453e+003, 1.11107982e+003,\n",
       "        1.11319421e+003, 1.11530769e+003, 1.11742027e+003, 1.11953193e+003,\n",
       "        1.12164269e+003, 1.12375252e+003, 1.12586144e+003, 1.12796944e+003,\n",
       "        1.13007651e+003, 1.13218266e+003, 1.13428787e+003, 6.16756968e-319]),\n",
       " 'streakImageTrigLevel': array([0.3], dtype=float32),\n",
       " 'streakImageWidth': array([672])}"
      ]
     },
     "execution_count": 115,
     "metadata": {},
     "output_type": "execute_result"
    }
   ],
   "source": [
    "ll"
   ]
  },
  {
   "cell_type": "code",
   "execution_count": null,
   "metadata": {},
   "outputs": [],
   "source": []
  },
  {
   "cell_type": "code",
   "execution_count": null,
   "metadata": {},
   "outputs": [],
   "source": []
  }
 ],
 "metadata": {
  "kernelspec": {
   "display_name": "Python 3",
   "language": "python",
   "name": "python3"
  },
  "language_info": {
   "codemirror_mode": {
    "name": "ipython",
    "version": 3
   },
   "file_extension": ".py",
   "mimetype": "text/x-python",
   "name": "python",
   "nbconvert_exporter": "python",
   "pygments_lexer": "ipython3",
   "version": "3.7.1"
  }
 },
 "nbformat": 4,
 "nbformat_minor": 2
}
