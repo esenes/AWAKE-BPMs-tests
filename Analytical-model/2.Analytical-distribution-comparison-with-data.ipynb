{
 "cells": [
  {
   "cell_type": "markdown",
   "metadata": {},
   "source": [
    "# Bunch longitudinal distribution --> comparison with proton data\n",
    "\n",
    "Having a look to the streak camera data recorded on the 2nd of November to understand if the proton beam is gaussian-, cos^2- or what- distributed\n",
    "\n",
    "**You need to mount the eos to run this locally**\n",
    "\n",
    "# OLD VERSION, USE VERSION 3. THAT CALLS THE DATA CORRECTED BY ANNA-MARIA"
   ]
  },
  {
   "cell_type": "code",
   "execution_count": 138,
   "metadata": {},
   "outputs": [],
   "source": [
    "import numpy as np\n",
    "import matplotlib.pyplot as plt\n",
    "%matplotlib inline"
   ]
  },
  {
   "cell_type": "code",
   "execution_count": 139,
   "metadata": {},
   "outputs": [],
   "source": [
    "import h5py\n",
    "import pandas as pnd\n",
    "import glob\n",
    "import os"
   ]
  },
  {
   "cell_type": "code",
   "execution_count": 144,
   "metadata": {},
   "outputs": [],
   "source": [
    "flist = sorted(glob.glob('/Users/esenes/eos/user/e/esenes/AWAKE_streak_data/1541149*')); fnum = len(flist)\n"
   ]
  },
  {
   "cell_type": "code",
   "execution_count": 141,
   "metadata": {
    "scrolled": true
   },
   "outputs": [],
   "source": [
    "#### LEANDER'S WAY --> WAAAAY FASTER THAN MINE !\n",
    "    \n",
    "def handleNumeric(bubu):\n",
    "    if b'No value' in bubu.value:\n",
    "        return None\n",
    "    else:\n",
    "        return bubu.value\n",
    "\n",
    "\n",
    "for fname in flist:\n",
    "#     print(fname)\n",
    "    f = h5py.File(fname, 'r')\n",
    "    \n",
    "    temp = f['AwakeEventData']['XMPP-STREAK']['StreakImage']\n",
    "    print([handleNumeric(temp) if type(temp) is not h5py._hl.group.Group else {k:v.value for k,v in temp.items()}])"
   ]
  },
  {
   "cell_type": "code",
   "execution_count": 145,
   "metadata": {},
   "outputs": [
    {
     "name": "stdout",
     "output_type": "stream",
     "text": [
      "Processing file 0/2112\n"
     ]
    },
    {
     "ename": "OSError",
     "evalue": "Unable to open file (file read failed: time = Sat Feb 23 12:05:39 2019\n, filename = '/', file descriptor = 76, errno = 21, error message = 'Is a directory', buf = 0x7ffee37d1428, total read size = 8, bytes this sub-read = 8, bytes actually read = 18446744073709551615, offset = 0)",
     "output_type": "error",
     "traceback": [
      "\u001b[0;31m---------------------------------------------------------------------------\u001b[0m",
      "\u001b[0;31mOSError\u001b[0m                                   Traceback (most recent call last)",
      "\u001b[0;32m<ipython-input-145-c28f7ba0a3d2>\u001b[0m in \u001b[0;36m<module>\u001b[0;34m\u001b[0m\n\u001b[1;32m      8\u001b[0m     \u001b[0;32mif\u001b[0m \u001b[0mnp\u001b[0m\u001b[0;34m.\u001b[0m\u001b[0mmod\u001b[0m\u001b[0;34m(\u001b[0m\u001b[0mk\u001b[0m\u001b[0;34m,\u001b[0m\u001b[0;36m100\u001b[0m\u001b[0;34m)\u001b[0m \u001b[0;34m==\u001b[0m \u001b[0;36m0\u001b[0m\u001b[0;34m:\u001b[0m\u001b[0;34m\u001b[0m\u001b[0;34m\u001b[0m\u001b[0m\n\u001b[1;32m      9\u001b[0m         \u001b[0mprint\u001b[0m\u001b[0;34m(\u001b[0m\u001b[0;34m'Processing file '\u001b[0m\u001b[0;34m+\u001b[0m\u001b[0mstr\u001b[0m\u001b[0;34m(\u001b[0m\u001b[0mk\u001b[0m\u001b[0;34m)\u001b[0m\u001b[0;34m+\u001b[0m\u001b[0mstr\u001b[0m\u001b[0;34m(\u001b[0m\u001b[0;34m'/'\u001b[0m\u001b[0;34m)\u001b[0m\u001b[0;34m+\u001b[0m\u001b[0mstr\u001b[0m\u001b[0;34m(\u001b[0m\u001b[0mfnum\u001b[0m\u001b[0;34m)\u001b[0m\u001b[0;34m)\u001b[0m\u001b[0;34m\u001b[0m\u001b[0;34m\u001b[0m\u001b[0m\n\u001b[0;32m---> 10\u001b[0;31m     \u001b[0mf\u001b[0m \u001b[0;34m=\u001b[0m \u001b[0mh5py\u001b[0m\u001b[0;34m.\u001b[0m\u001b[0mFile\u001b[0m\u001b[0;34m(\u001b[0m\u001b[0mfile\u001b[0m\u001b[0;34m,\u001b[0m \u001b[0;34m'r'\u001b[0m\u001b[0;34m)\u001b[0m\u001b[0;34m\u001b[0m\u001b[0;34m\u001b[0m\u001b[0m\n\u001b[0m\u001b[1;32m     11\u001b[0m     \u001b[0mtimestamps\u001b[0m\u001b[0;34m.\u001b[0m\u001b[0mappend\u001b[0m\u001b[0;34m(\u001b[0m\u001b[0mf\u001b[0m\u001b[0;34m[\u001b[0m\u001b[0;34m'AwakeEventInfo'\u001b[0m\u001b[0;34m]\u001b[0m\u001b[0;34m[\u001b[0m\u001b[0;34m'timestamp'\u001b[0m\u001b[0;34m]\u001b[0m\u001b[0;34m.\u001b[0m\u001b[0mvalue\u001b[0m\u001b[0;34m)\u001b[0m\u001b[0;34m\u001b[0m\u001b[0;34m\u001b[0m\u001b[0m\n\u001b[1;32m     12\u001b[0m \u001b[0;34m\u001b[0m\u001b[0m\n",
      "\u001b[0;32m/anaconda3/lib/python3.7/site-packages/h5py/_hl/files.py\u001b[0m in \u001b[0;36m__init__\u001b[0;34m(self, name, mode, driver, libver, userblock_size, swmr, **kwds)\u001b[0m\n\u001b[1;32m    310\u001b[0m             \u001b[0;32mwith\u001b[0m \u001b[0mphil\u001b[0m\u001b[0;34m:\u001b[0m\u001b[0;34m\u001b[0m\u001b[0;34m\u001b[0m\u001b[0m\n\u001b[1;32m    311\u001b[0m                 \u001b[0mfapl\u001b[0m \u001b[0;34m=\u001b[0m \u001b[0mmake_fapl\u001b[0m\u001b[0;34m(\u001b[0m\u001b[0mdriver\u001b[0m\u001b[0;34m,\u001b[0m \u001b[0mlibver\u001b[0m\u001b[0;34m,\u001b[0m \u001b[0;34m**\u001b[0m\u001b[0mkwds\u001b[0m\u001b[0;34m)\u001b[0m\u001b[0;34m\u001b[0m\u001b[0;34m\u001b[0m\u001b[0m\n\u001b[0;32m--> 312\u001b[0;31m                 \u001b[0mfid\u001b[0m \u001b[0;34m=\u001b[0m \u001b[0mmake_fid\u001b[0m\u001b[0;34m(\u001b[0m\u001b[0mname\u001b[0m\u001b[0;34m,\u001b[0m \u001b[0mmode\u001b[0m\u001b[0;34m,\u001b[0m \u001b[0muserblock_size\u001b[0m\u001b[0;34m,\u001b[0m \u001b[0mfapl\u001b[0m\u001b[0;34m,\u001b[0m \u001b[0mswmr\u001b[0m\u001b[0;34m=\u001b[0m\u001b[0mswmr\u001b[0m\u001b[0;34m)\u001b[0m\u001b[0;34m\u001b[0m\u001b[0;34m\u001b[0m\u001b[0m\n\u001b[0m\u001b[1;32m    313\u001b[0m \u001b[0;34m\u001b[0m\u001b[0m\n\u001b[1;32m    314\u001b[0m                 \u001b[0;32mif\u001b[0m \u001b[0mswmr_support\u001b[0m\u001b[0;34m:\u001b[0m\u001b[0;34m\u001b[0m\u001b[0;34m\u001b[0m\u001b[0m\n",
      "\u001b[0;32m/anaconda3/lib/python3.7/site-packages/h5py/_hl/files.py\u001b[0m in \u001b[0;36mmake_fid\u001b[0;34m(name, mode, userblock_size, fapl, fcpl, swmr)\u001b[0m\n\u001b[1;32m    140\u001b[0m         \u001b[0;32mif\u001b[0m \u001b[0mswmr\u001b[0m \u001b[0;32mand\u001b[0m \u001b[0mswmr_support\u001b[0m\u001b[0;34m:\u001b[0m\u001b[0;34m\u001b[0m\u001b[0;34m\u001b[0m\u001b[0m\n\u001b[1;32m    141\u001b[0m             \u001b[0mflags\u001b[0m \u001b[0;34m|=\u001b[0m \u001b[0mh5f\u001b[0m\u001b[0;34m.\u001b[0m\u001b[0mACC_SWMR_READ\u001b[0m\u001b[0;34m\u001b[0m\u001b[0;34m\u001b[0m\u001b[0m\n\u001b[0;32m--> 142\u001b[0;31m         \u001b[0mfid\u001b[0m \u001b[0;34m=\u001b[0m \u001b[0mh5f\u001b[0m\u001b[0;34m.\u001b[0m\u001b[0mopen\u001b[0m\u001b[0;34m(\u001b[0m\u001b[0mname\u001b[0m\u001b[0;34m,\u001b[0m \u001b[0mflags\u001b[0m\u001b[0;34m,\u001b[0m \u001b[0mfapl\u001b[0m\u001b[0;34m=\u001b[0m\u001b[0mfapl\u001b[0m\u001b[0;34m)\u001b[0m\u001b[0;34m\u001b[0m\u001b[0;34m\u001b[0m\u001b[0m\n\u001b[0m\u001b[1;32m    143\u001b[0m     \u001b[0;32melif\u001b[0m \u001b[0mmode\u001b[0m \u001b[0;34m==\u001b[0m \u001b[0;34m'r+'\u001b[0m\u001b[0;34m:\u001b[0m\u001b[0;34m\u001b[0m\u001b[0;34m\u001b[0m\u001b[0m\n\u001b[1;32m    144\u001b[0m         \u001b[0mfid\u001b[0m \u001b[0;34m=\u001b[0m \u001b[0mh5f\u001b[0m\u001b[0;34m.\u001b[0m\u001b[0mopen\u001b[0m\u001b[0;34m(\u001b[0m\u001b[0mname\u001b[0m\u001b[0;34m,\u001b[0m \u001b[0mh5f\u001b[0m\u001b[0;34m.\u001b[0m\u001b[0mACC_RDWR\u001b[0m\u001b[0;34m,\u001b[0m \u001b[0mfapl\u001b[0m\u001b[0;34m=\u001b[0m\u001b[0mfapl\u001b[0m\u001b[0;34m)\u001b[0m\u001b[0;34m\u001b[0m\u001b[0;34m\u001b[0m\u001b[0m\n",
      "\u001b[0;32mh5py/_objects.pyx\u001b[0m in \u001b[0;36mh5py._objects.with_phil.wrapper\u001b[0;34m()\u001b[0m\n",
      "\u001b[0;32mh5py/_objects.pyx\u001b[0m in \u001b[0;36mh5py._objects.with_phil.wrapper\u001b[0;34m()\u001b[0m\n",
      "\u001b[0;32mh5py/h5f.pyx\u001b[0m in \u001b[0;36mh5py.h5f.open\u001b[0;34m()\u001b[0m\n",
      "\u001b[0;31mOSError\u001b[0m: Unable to open file (file read failed: time = Sat Feb 23 12:05:39 2019\n, filename = '/', file descriptor = 76, errno = 21, error message = 'Is a directory', buf = 0x7ffee37d1428, total read size = 8, bytes this sub-read = 8, bytes actually read = 18446744073709551615, offset = 0)"
     ]
    }
   ],
   "source": [
    "flist = sorted(glob.glob('/Users/esenes/eos/user/e/esenes/AWAKE_streak_data/*')); fnum = len(flist)\n",
    "\n",
    "# init stuff\n",
    "timestamps = []\n",
    "streakImages = []\n",
    "# parse all the files\n",
    "for k, file in enumerate(flist[0]):\n",
    "    if np.mod(k,100) == 0:\n",
    "        print('Processing file '+str(k)+str('/')+str(fnum))\n",
    "    f = h5py.File(file, 'r')\n",
    "    timestamps.append(f['AwakeEventInfo']['timestamp'].value)\n",
    "\n",
    "    # search for when the streak camera was on\n",
    "    if type(f['AwakeEventData']['XMPP-STREAK']['StreakImage']) == h5py._hl.group.Group: \n",
    "        # dump to a dictionary and append it to the array\n",
    "        tmp_dict = dict()\n",
    "        for key in list(f['AwakeEventData']['XMPP-STREAK']['StreakImage'].keys()):\n",
    "            tmp_dict[key] = f['AwakeEventData']['XMPP-STREAK']['StreakImage'][key].value\n",
    "        streakImages.append(tmp_dict)\n",
    "        del(tmp_dict)\n",
    "    else:\n",
    "        streakImages.append(None)\n",
    "\n",
    "    f.close()"
   ]
  },
  {
   "cell_type": "code",
   "execution_count": null,
   "metadata": {},
   "outputs": [],
   "source": []
  },
  {
   "cell_type": "code",
   "execution_count": null,
   "metadata": {},
   "outputs": [],
   "source": []
  },
  {
   "cell_type": "markdown",
   "metadata": {},
   "source": [
    "# Import the data"
   ]
  },
  {
   "cell_type": "code",
   "execution_count": 146,
   "metadata": {
    "scrolled": true
   },
   "outputs": [
    {
     "name": "stdout",
     "output_type": "stream",
     "text": [
      "Data already exist!\n"
     ]
    }
   ],
   "source": [
    "if os.path.isfile('data_streak_camera.pkl'):#here we go again, just load\n",
    "    print('Data already exist!')\n",
    "    data = pnd.read_pickle('data_streak_camera.pkl')\n",
    "\n",
    "else:\n",
    "    flist = sorted(glob.glob('/Users/esenes/eos/user/e/esenes/AWAKE_streak_data/*')); fnum = len(flist)\n",
    "\n",
    "    # init stuff\n",
    "    timestamps = []\n",
    "    streakImages = []\n",
    "    # parse all the files\n",
    "    for k, file in enumerate(flist):\n",
    "        if np.mod(k,100) == 0:\n",
    "            print('Processing file '+str(k)+str('/')+str(fnum))\n",
    "        f = h5py.File(file, 'r')\n",
    "        timestamps.append(f['AwakeEventInfo']['timestamp'].value)\n",
    "\n",
    "        # search for when the streak camera was on\n",
    "        if type(f['AwakeEventData']['XMPP-STREAK']['StreakImage']) == h5py._hl.group.Group: \n",
    "            # dump to a dictionary and append it to the array\n",
    "            tmp_dict = dict()\n",
    "            for key in list(f['AwakeEventData']['XMPP-STREAK']['StreakImage'].keys()):\n",
    "                tmp_dict[key] = f['AwakeEventData']['XMPP-STREAK']['StreakImage'][key].value\n",
    "            streakImages.append(tmp_dict)\n",
    "            del(tmp_dict)\n",
    "        else:\n",
    "            streakImages.append(None)\n",
    "\n",
    "        f.close()"
   ]
  },
  {
   "cell_type": "code",
   "execution_count": null,
   "metadata": {},
   "outputs": [],
   "source": [
    "# back to human readable\n",
    "timestamps = np.array(timestamps)\n",
    "timestamps = pnd.to_datetime(timestamps)\n",
    "\n",
    "# dump to dataframe\n",
    "data = pnd.DataFrame(columns=['streakImageHeight','streakImageData','streakImageMcpGain','streakImageProjection','streakImageTimeValues','streakImageWidth','camera_is_on'], index=timestamps)\n"
   ]
  },
  {
   "cell_type": "code",
   "execution_count": null,
   "metadata": {},
   "outputs": [],
   "source": [
    "assert len(timestamps) == len(streakImages)\n",
    "# parse the streak data and fill the dataframe\n",
    "for k,s in enumerate(streakImages):\n",
    "    ts = timestamps[k]\n",
    "    if streakImages[k] == None:\n",
    "        data['streakImageHeight'].loc[ts] = np.nan\n",
    "        data['streakImageData'].loc[ts] = np.empty(0, dtype=np.int32)\n",
    "        data['streakImageMcpGain'].loc[ts] = np.nan\n",
    "        data['streakImageProjection'].loc[ts] = np.empty(0, dtype=np.float32)\n",
    "        data['streakImageTimeValues'].loc[ts] = np.empty(0)\n",
    "        data['streakImageWidth'].loc[ts] = np.nan\n",
    "        data['camera_is_on'].loc[ts] = False\n",
    "    else:\n",
    "        data['streakImageHeight'].loc[ts] = streakImages[k]['streakImageHeight'][0]\n",
    "        data['streakImageData'].loc[ts] = streakImages[k]['streakImageData']\n",
    "        data['streakImageMcpGain'].loc[ts] = streakImages[k]['streakImageData']\n",
    "        data['streakImageProjection'].loc[ts] = streakImages[k]['streakImageProjection']\n",
    "        data['streakImageTimeValues'].loc[ts] = streakImages[k]['streakImageTimeValues']\n",
    "        data['streakImageWidth'].loc[ts] = streakImages[k]['streakImageWidth'][0]\n",
    "        data['camera_is_on'].loc[ts] = True\n",
    "\n",
    "#check streakImages[1400].keys() for reference\n",
    "data.to_pickle('data_streak_camera.pkl')"
   ]
  },
  {
   "cell_type": "code",
   "execution_count": 147,
   "metadata": {},
   "outputs": [
    {
     "data": {
      "text/html": [
       "<div>\n",
       "<style scoped>\n",
       "    .dataframe tbody tr th:only-of-type {\n",
       "        vertical-align: middle;\n",
       "    }\n",
       "\n",
       "    .dataframe tbody tr th {\n",
       "        vertical-align: top;\n",
       "    }\n",
       "\n",
       "    .dataframe thead th {\n",
       "        text-align: right;\n",
       "    }\n",
       "</style>\n",
       "<table border=\"1\" class=\"dataframe\">\n",
       "  <thead>\n",
       "    <tr style=\"text-align: right;\">\n",
       "      <th></th>\n",
       "      <th>streakImageHeight</th>\n",
       "      <th>streakImageData</th>\n",
       "      <th>streakImageMcpGain</th>\n",
       "      <th>streakImageProjection</th>\n",
       "      <th>streakImageTimeValues</th>\n",
       "      <th>streakImageWidth</th>\n",
       "      <th>camera_is_on</th>\n",
       "    </tr>\n",
       "  </thead>\n",
       "  <tbody>\n",
       "    <tr>\n",
       "      <th>2018-11-02 12:52:00.135</th>\n",
       "      <td>512</td>\n",
       "      <td>[430, 425, 435, 433, 434, 420, 410, 432, 417, ...</td>\n",
       "      <td>[430, 425, 435, 433, 434, 420, 410, 432, 417, ...</td>\n",
       "      <td>[430.41806, 428.35876, 430.16666, 433.009, 435...</td>\n",
       "      <td>[2.211603188, 4.42371933, 6.63634559, 8.849479...</td>\n",
       "      <td>672</td>\n",
       "      <td>True</td>\n",
       "    </tr>\n",
       "    <tr>\n",
       "      <th>2018-11-02 12:52:26.535</th>\n",
       "      <td>NaN</td>\n",
       "      <td>[]</td>\n",
       "      <td>NaN</td>\n",
       "      <td>[]</td>\n",
       "      <td>[]</td>\n",
       "      <td>NaN</td>\n",
       "      <td>False</td>\n",
       "    </tr>\n",
       "    <tr>\n",
       "      <th>2018-11-02 12:52:51.735</th>\n",
       "      <td>512</td>\n",
       "      <td>[429, 430, 423, 430, 428, 419, 432, 414, 431, ...</td>\n",
       "      <td>[429, 430, 423, 430, 428, 419, 432, 414, 431, ...</td>\n",
       "      <td>[430.94934, 428.4348, 426.42996, 429.6042, 431...</td>\n",
       "      <td>[2.211603188, 4.42371933, 6.63634559, 8.849479...</td>\n",
       "      <td>672</td>\n",
       "      <td>True</td>\n",
       "    </tr>\n",
       "    <tr>\n",
       "      <th>2018-11-02 12:53:18.135</th>\n",
       "      <td>NaN</td>\n",
       "      <td>[]</td>\n",
       "      <td>NaN</td>\n",
       "      <td>[]</td>\n",
       "      <td>[]</td>\n",
       "      <td>NaN</td>\n",
       "      <td>False</td>\n",
       "    </tr>\n",
       "    <tr>\n",
       "      <th>2018-11-02 12:53:43.335</th>\n",
       "      <td>512</td>\n",
       "      <td>[431, 428, 432, 448, 422, 426, 432, 433, 429, ...</td>\n",
       "      <td>[431, 428, 432, 448, 422, 426, 432, 433, 429, ...</td>\n",
       "      <td>[432.5207, 432.753, 434.0359, 429.88696, 429.0...</td>\n",
       "      <td>[2.211603188, 4.42371933, 6.63634559, 8.849479...</td>\n",
       "      <td>672</td>\n",
       "      <td>True</td>\n",
       "    </tr>\n",
       "    <tr>\n",
       "      <th>2018-11-02 12:54:09.735</th>\n",
       "      <td>NaN</td>\n",
       "      <td>[]</td>\n",
       "      <td>NaN</td>\n",
       "      <td>[]</td>\n",
       "      <td>[]</td>\n",
       "      <td>NaN</td>\n",
       "      <td>False</td>\n",
       "    </tr>\n",
       "    <tr>\n",
       "      <th>2018-11-02 12:54:34.935</th>\n",
       "      <td>512</td>\n",
       "      <td>[417, 424, 419, 427, 437, 431, 437, 424, 427, ...</td>\n",
       "      <td>[417, 424, 419, 427, 437, 431, 437, 424, 427, ...</td>\n",
       "      <td>[434.21246, 430.78415, 430.70514, 429.9391, 43...</td>\n",
       "      <td>[2.211603188, 4.42371933, 6.63634559, 8.849479...</td>\n",
       "      <td>672</td>\n",
       "      <td>True</td>\n",
       "    </tr>\n",
       "    <tr>\n",
       "      <th>2018-11-02 12:55:01.335</th>\n",
       "      <td>NaN</td>\n",
       "      <td>[]</td>\n",
       "      <td>NaN</td>\n",
       "      <td>[]</td>\n",
       "      <td>[]</td>\n",
       "      <td>NaN</td>\n",
       "      <td>False</td>\n",
       "    </tr>\n",
       "    <tr>\n",
       "      <th>2018-11-02 12:55:26.535</th>\n",
       "      <td>512</td>\n",
       "      <td>[438, 422, 418, 426, 431, 416, 406, 418, 410, ...</td>\n",
       "      <td>[438, 422, 418, 426, 431, 416, 406, 418, 410, ...</td>\n",
       "      <td>[432.93903, 430.09518, 431.47525, 431.64862, 4...</td>\n",
       "      <td>[2.211603188, 4.42371933, 6.63634559, 8.849479...</td>\n",
       "      <td>672</td>\n",
       "      <td>True</td>\n",
       "    </tr>\n",
       "    <tr>\n",
       "      <th>2018-11-02 12:55:52.935</th>\n",
       "      <td>NaN</td>\n",
       "      <td>[]</td>\n",
       "      <td>NaN</td>\n",
       "      <td>[]</td>\n",
       "      <td>[]</td>\n",
       "      <td>NaN</td>\n",
       "      <td>False</td>\n",
       "    </tr>\n",
       "  </tbody>\n",
       "</table>\n",
       "</div>"
      ],
      "text/plain": [
       "                        streakImageHeight  \\\n",
       "2018-11-02 12:52:00.135               512   \n",
       "2018-11-02 12:52:26.535               NaN   \n",
       "2018-11-02 12:52:51.735               512   \n",
       "2018-11-02 12:53:18.135               NaN   \n",
       "2018-11-02 12:53:43.335               512   \n",
       "2018-11-02 12:54:09.735               NaN   \n",
       "2018-11-02 12:54:34.935               512   \n",
       "2018-11-02 12:55:01.335               NaN   \n",
       "2018-11-02 12:55:26.535               512   \n",
       "2018-11-02 12:55:52.935               NaN   \n",
       "\n",
       "                                                           streakImageData  \\\n",
       "2018-11-02 12:52:00.135  [430, 425, 435, 433, 434, 420, 410, 432, 417, ...   \n",
       "2018-11-02 12:52:26.535                                                 []   \n",
       "2018-11-02 12:52:51.735  [429, 430, 423, 430, 428, 419, 432, 414, 431, ...   \n",
       "2018-11-02 12:53:18.135                                                 []   \n",
       "2018-11-02 12:53:43.335  [431, 428, 432, 448, 422, 426, 432, 433, 429, ...   \n",
       "2018-11-02 12:54:09.735                                                 []   \n",
       "2018-11-02 12:54:34.935  [417, 424, 419, 427, 437, 431, 437, 424, 427, ...   \n",
       "2018-11-02 12:55:01.335                                                 []   \n",
       "2018-11-02 12:55:26.535  [438, 422, 418, 426, 431, 416, 406, 418, 410, ...   \n",
       "2018-11-02 12:55:52.935                                                 []   \n",
       "\n",
       "                                                        streakImageMcpGain  \\\n",
       "2018-11-02 12:52:00.135  [430, 425, 435, 433, 434, 420, 410, 432, 417, ...   \n",
       "2018-11-02 12:52:26.535                                                NaN   \n",
       "2018-11-02 12:52:51.735  [429, 430, 423, 430, 428, 419, 432, 414, 431, ...   \n",
       "2018-11-02 12:53:18.135                                                NaN   \n",
       "2018-11-02 12:53:43.335  [431, 428, 432, 448, 422, 426, 432, 433, 429, ...   \n",
       "2018-11-02 12:54:09.735                                                NaN   \n",
       "2018-11-02 12:54:34.935  [417, 424, 419, 427, 437, 431, 437, 424, 427, ...   \n",
       "2018-11-02 12:55:01.335                                                NaN   \n",
       "2018-11-02 12:55:26.535  [438, 422, 418, 426, 431, 416, 406, 418, 410, ...   \n",
       "2018-11-02 12:55:52.935                                                NaN   \n",
       "\n",
       "                                                     streakImageProjection  \\\n",
       "2018-11-02 12:52:00.135  [430.41806, 428.35876, 430.16666, 433.009, 435...   \n",
       "2018-11-02 12:52:26.535                                                 []   \n",
       "2018-11-02 12:52:51.735  [430.94934, 428.4348, 426.42996, 429.6042, 431...   \n",
       "2018-11-02 12:53:18.135                                                 []   \n",
       "2018-11-02 12:53:43.335  [432.5207, 432.753, 434.0359, 429.88696, 429.0...   \n",
       "2018-11-02 12:54:09.735                                                 []   \n",
       "2018-11-02 12:54:34.935  [434.21246, 430.78415, 430.70514, 429.9391, 43...   \n",
       "2018-11-02 12:55:01.335                                                 []   \n",
       "2018-11-02 12:55:26.535  [432.93903, 430.09518, 431.47525, 431.64862, 4...   \n",
       "2018-11-02 12:55:52.935                                                 []   \n",
       "\n",
       "                                                     streakImageTimeValues  \\\n",
       "2018-11-02 12:52:00.135  [2.211603188, 4.42371933, 6.63634559, 8.849479...   \n",
       "2018-11-02 12:52:26.535                                                 []   \n",
       "2018-11-02 12:52:51.735  [2.211603188, 4.42371933, 6.63634559, 8.849479...   \n",
       "2018-11-02 12:53:18.135                                                 []   \n",
       "2018-11-02 12:53:43.335  [2.211603188, 4.42371933, 6.63634559, 8.849479...   \n",
       "2018-11-02 12:54:09.735                                                 []   \n",
       "2018-11-02 12:54:34.935  [2.211603188, 4.42371933, 6.63634559, 8.849479...   \n",
       "2018-11-02 12:55:01.335                                                 []   \n",
       "2018-11-02 12:55:26.535  [2.211603188, 4.42371933, 6.63634559, 8.849479...   \n",
       "2018-11-02 12:55:52.935                                                 []   \n",
       "\n",
       "                        streakImageWidth  camera_is_on  \n",
       "2018-11-02 12:52:00.135              672          True  \n",
       "2018-11-02 12:52:26.535              NaN         False  \n",
       "2018-11-02 12:52:51.735              672          True  \n",
       "2018-11-02 12:53:18.135              NaN         False  \n",
       "2018-11-02 12:53:43.335              672          True  \n",
       "2018-11-02 12:54:09.735              NaN         False  \n",
       "2018-11-02 12:54:34.935              672          True  \n",
       "2018-11-02 12:55:01.335              NaN         False  \n",
       "2018-11-02 12:55:26.535              672          True  \n",
       "2018-11-02 12:55:52.935              NaN         False  "
      ]
     },
     "execution_count": 147,
     "metadata": {},
     "output_type": "execute_result"
    }
   ],
   "source": [
    "data.iloc[1400:1410]"
   ]
  },
  {
   "cell_type": "code",
   "execution_count": 148,
   "metadata": {},
   "outputs": [
    {
     "data": {
      "image/png": "[encoded data removed]",
      "text/plain": [
       "<Figure size 432x288 with 1 Axes>"
      ]
     },
     "metadata": {
      "needs_background": "light"
     },
     "output_type": "display_data"
    }
   ],
   "source": [
    "def showStreakImage(streakImageData, height, width):\n",
    "    im = np.reshape(streakImageData, (height, width))\n",
    "    plt.imshow(im)\n",
    "    \n",
    "showStreakImage(data.iloc[1400]['streakImageData'], data.iloc[1400]['streakImageHeight'], data.iloc[1400]['streakImageWidth'])\n",
    "\n"
   ]
  },
  {
   "cell_type": "code",
   "execution_count": 149,
   "metadata": {},
   "outputs": [
    {
     "data": {
      "text/plain": [
       "[<matplotlib.lines.Line2D at 0x120ddd518>]"
      ]
     },
     "execution_count": 149,
     "metadata": {},
     "output_type": "execute_result"
    },
    {
     "data": {
      "image/png": "[encoded data removed]",
      "text/plain": [
       "<Figure size 432x288 with 1 Axes>"
      ]
     },
     "metadata": {
      "needs_background": "light"
     },
     "output_type": "display_data"
    }
   ],
   "source": [
    "plt.plot(data.iloc[1400]['streakImageTimeValues'], data.iloc[1400]['streakImageProjection'],'.')"
   ]
  },
  {
   "cell_type": "code",
   "execution_count": 150,
   "metadata": {},
   "outputs": [
    {
     "data": {
      "text/plain": [
       "streakImageHeight                                                      512\n",
       "streakImageData          [430, 425, 435, 433, 434, 420, 410, 432, 417, ...\n",
       "streakImageMcpGain       [430, 425, 435, 433, 434, 420, 410, 432, 417, ...\n",
       "streakImageProjection    [430.41806, 428.35876, 430.16666, 433.009, 435...\n",
       "streakImageTimeValues    [2.211603188, 4.42371933, 6.63634559, 8.849479...\n",
       "streakImageWidth                                                       672\n",
       "camera_is_on                                                          True\n",
       "Name: 2018-11-02 12:52:00.135000, dtype: object"
      ]
     },
     "execution_count": 150,
     "metadata": {},
     "output_type": "execute_result"
    }
   ],
   "source": [
    "data.iloc[1400]"
   ]
  },
  {
   "cell_type": "code",
   "execution_count": 151,
   "metadata": {},
   "outputs": [
    {
     "data": {
      "text/plain": [
       "565.0333"
      ]
     },
     "execution_count": 151,
     "metadata": {},
     "output_type": "execute_result"
    }
   ],
   "source": [
    "np.std(data.iloc[1400]['streakImageProjection'])"
   ]
  },
  {
   "cell_type": "code",
   "execution_count": null,
   "metadata": {},
   "outputs": [],
   "source": [
    "# rough manual fit of the curves\n",
    "xx = data.iloc[1400]['streakImageTimeValues'][:-2] - np.mean(data.iloc[1400]['streakImageTimeValues']) +15\n",
    "yy = data.iloc[1400]['streakImageProjection'][:-2] \n",
    "plt.plot(xx, yy,'.')\n",
    "\n",
    "\n",
    "\n",
    "N = 0.8e6\n",
    "yy = N*gaussian_shape(xx, 0., 200) + 435\n",
    "plt.plot(xx, yy)\n",
    "\n",
    "sig = 280\n",
    "yy = N*cos2_shape(xx, sig) + 435\n",
    "plt.plot(xx, yy)\n",
    "\n",
    "fig = plt.gcf()\n",
    "fig.dpi=150"
   ]
  },
  {
   "cell_type": "code",
   "execution_count": null,
   "metadata": {},
   "outputs": [],
   "source": [
    "# FFT attempt\n",
    "xx = data.iloc[1400]['streakImageTimeValues'][:-2]\n",
    "yy = data.iloc[1400]['streakImageProjection'][:-2] \n",
    "\n",
    "x_fft, y_fft = doFFT(xx,yy)\n",
    "\n",
    "plt.plot(x_fft,dB(y_fft),'-o')\n",
    "plt.xlim(0,0.05)\n"
   ]
  },
  {
   "cell_type": "code",
   "execution_count": null,
   "metadata": {},
   "outputs": [],
   "source": []
  },
  {
   "cell_type": "markdown",
   "metadata": {},
   "source": [
    "# Particle distributions:\n",
    "\n",
    "## Gaussian:\n",
    "\n",
    "$$\n",
    "f(x) = \\frac{N e}{\\sigma \\sqrt{2 \\pi}} e^{-\\frac{(x-\\mu)^2}{\\sigma^2} }\n",
    "$$\n",
    "\n",
    "works fine because it is already normalised to 1, so just multiplicate for the charge to get current\n",
    "\n",
    "## Cosine square\n",
    "\n",
    "$$\n",
    "f(x) = cos^2(\\frac{\\pi}{4\\sigma} x), \\qquad \\text{for a period only} \n",
    "$$\n",
    "\n",
    "now this is not normalised to one! So computing: $$\\int_{-\\frac{\\pi}{2}}^\\frac{\\pi}{2} cos^2(x) dx = \\frac{1}{2} (x+sin(x)cos(x)) = \\frac{\\pi}{2}$$\n",
    "\n",
    "and so similarly \n",
    "$$\\int_{-2\\sigma}^{2\\sigma} cos^2(\\frac{\\pi}{4\\sigma} x) dx = \\frac{x}{2} + \\frac{\\sigma}{4}sin(\\frac{\\pi}{4\\sigma} x) = 2\\sigma$$\n",
    "\n",
    "so the function has to be normalised multiplying for $\\frac{1}{2\\sigma}$ and it is \n",
    "\n",
    "$$\n",
    "f(x) = \\frac{1}{2\\sigma} cos^2(\\frac{\\pi}{4\\sigma} x)\n",
    "$$"
   ]
  },
  {
   "cell_type": "code",
   "execution_count": 152,
   "metadata": {},
   "outputs": [],
   "source": [
    "def gaussian_shape(x, mu, sig):\n",
    "    return 1./((sig*np.sqrt(np.pi*2))) * np.exp(-0.5*((x-mu)/sig)**2)\n",
    "\n",
    "def current(x, N, mu, sig):\n",
    "    from scipy.constants import e\n",
    "    return e*N*gaussian_shape(x, mu, sig )\n",
    "\n",
    "def dB(x):\n",
    "    return 20*np.log10(x)"
   ]
  },
  {
   "cell_type": "code",
   "execution_count": 153,
   "metadata": {},
   "outputs": [],
   "source": [
    "def cos2_shape(x, sigma):\n",
    "    a = np.pi/(4*sigma)\n",
    "    \n",
    "    full_out = (1./2. / sigma)*np.cos(a*x)**2\n",
    "    full_out[x<-2*sigma] = 0.\n",
    "    full_out[x>2*sigma] = 0.\n",
    "    \n",
    "    return full_out\n",
    "\n",
    "def cos2_current(x, N, sig):\n",
    "    from scipy.constants import e\n",
    "    return e*N*cos2_shape(x, sig)"
   ]
  },
  {
   "cell_type": "code",
   "execution_count": 154,
   "metadata": {},
   "outputs": [],
   "source": [
    "def doFFT(t, y):\n",
    "    '''\n",
    "    Do the FFT. Beware there is a factor 2 in the normalisation, so look at the right-hand side of the spectrum only.\n",
    "    '''\n",
    "    assert t.size == y.size\n",
    "    dt = np.abs(t[1]-t[0])\n",
    "    N_sample = t.size\n",
    "    \n",
    "    norm = 2/N_sample\n",
    "    \n",
    "    s_fft = norm*np.abs(np.fft.fft(y))\n",
    "    f_fft = np.fft.fftfreq(N_sample, d=dt)\n",
    "    df = np.abs(f_fft[1]-f_fft[0])\n",
    "\n",
    "    return f_fft, s_fft"
   ]
  },
  {
   "cell_type": "code",
   "execution_count": 155,
   "metadata": {},
   "outputs": [],
   "source": [
    "def coulomb_to_N(charge):\n",
    "    '''\n",
    "    Total bunch charge [C] to number of particles per bunch N\n",
    "    '''\n",
    "    from scipy.constants import e\n",
    "    return charge/e"
   ]
  },
  {
   "cell_type": "code",
   "execution_count": 156,
   "metadata": {},
   "outputs": [
    {
     "name": "stdout",
     "output_type": "stream",
     "text": [
      "Integral=0.9999999999990906\n",
      "Integral=0.999999426710126\n"
     ]
    },
    {
     "data": {
      "text/plain": [
       "<matplotlib.legend.Legend at 0x121782a58>"
      ]
     },
     "execution_count": 156,
     "metadata": {},
     "output_type": "execute_result"
    },
    {
     "data": {
      "image/png": "[encoded data removed]",
      "text/plain": [
       "<Figure size 432x288 with 1 Axes>"
      ]
     },
     "metadata": {
      "needs_background": "light"
     },
     "output_type": "display_data"
    }
   ],
   "source": [
    "# distribution checks\n",
    "sigma_p = 1.\n",
    "\n",
    "tscale = np.linspace(-5*sigma_p, 5*sigma_p, 2**20)\n",
    "dt = tscale[1]-tscale[0]\n",
    "\n",
    "plt.plot(tscale, cos2_shape(tscale, sigma_p),label='cos^2')\n",
    "print('Integral='+str(np.sum(cos2_shape(tscale, sigma_p)*dt)))\n",
    "plt.plot(tscale, gaussian_shape(tscale, 0., sigma_p),label='gaussian')\n",
    "print('Integral='+str(np.sum(gaussian_shape(tscale, 0., sigma_p)*dt)))\n",
    "plt.legend(frameon=True)\n"
   ]
  },
  {
   "cell_type": "markdown",
   "metadata": {},
   "source": [
    "# Beam distribution comparison"
   ]
  },
  {
   "cell_type": "code",
   "execution_count": 157,
   "metadata": {},
   "outputs": [],
   "source": [
    "sigma_p = 0.25e-9\n",
    "Np = 3e11\n",
    "\n",
    "tscale = np.linspace(-30*sigma_p, 30*sigma_p, 2**22)"
   ]
  },
  {
   "cell_type": "code",
   "execution_count": 158,
   "metadata": {},
   "outputs": [],
   "source": [
    "dt = np.abs(tscale[1]-tscale[0])\n",
    "yy_p_cos2 = cos2_current(tscale, Np, sigma_p)\n",
    "yy_p_gauss = current(tscale, Np, 0., sigma_p)"
   ]
  },
  {
   "cell_type": "code",
   "execution_count": 159,
   "metadata": {},
   "outputs": [
    {
     "data": {
      "image/png": "[encoded data removed]",
      "text/plain": [
       "<Figure size 600x400 with 1 Axes>"
      ]
     },
     "metadata": {
      "needs_background": "light"
     },
     "output_type": "display_data"
    }
   ],
   "source": [
    "fig, ax = plt.subplots(1, dpi=100)\n",
    "ax.plot(1e9*tscale, yy_p_cos2,label='Cos^2 distr.')\n",
    "ax.plot(1e9*tscale, yy_p_gauss,label='Gauss distr.')\n",
    "ax.set_xlim(-1,1)\n",
    "# ax.set_ylim(-50,30)\n",
    "# ax.set_xscale('log')\n",
    "ax.grid(which='both')\n",
    "ax.set_ylabel('Bunch current (A)')\n",
    "ax.set_xlabel('Time (ns)')\n",
    "ax.legend(frameon=True)\n",
    "plt.savefig('ideal_time_domain.png',format='png',dpi=300)"
   ]
  },
  {
   "cell_type": "code",
   "execution_count": 160,
   "metadata": {},
   "outputs": [],
   "source": [
    "ff_p_cos2, sf_p_cos2 = doFFT(tscale,yy_p_cos2)\n",
    "ff_p_gauss, sf_p_gauss = doFFT(tscale,yy_p_gauss)"
   ]
  },
  {
   "cell_type": "code",
   "execution_count": 161,
   "metadata": {},
   "outputs": [
    {
     "name": "stderr",
     "output_type": "stream",
     "text": [
      "/anaconda3/lib/python3.7/site-packages/ipykernel_launcher.py:9: RuntimeWarning: divide by zero encountered in log10\n",
      "  if __name__ == '__main__':\n",
      "/anaconda3/lib/python3.7/site-packages/ipykernel_launcher.py:12: RuntimeWarning: invalid value encountered in subtract\n",
      "  if sys.path[0] == '':\n"
     ]
    },
    {
     "data": {
      "image/png": "[encoded data removed]",
      "text/plain": [
       "<Figure size 600x400 with 2 Axes>"
      ]
     },
     "metadata": {
      "needs_background": "light"
     },
     "output_type": "display_data"
    }
   ],
   "source": [
    "fig, ax = plt.subplots(2, dpi=100)\n",
    "ax[0].plot(ff_p_cos2, dB(sf_p_cos2),label='Cos^2 distr.')\n",
    "ax[0].plot(ff_p_gauss, dB(sf_p_gauss),label='Gauss distr.')\n",
    "ax[0].set_xlim(1e8, 2e12)\n",
    "ax[0].set_ylim(-80,30)\n",
    "ax[0].set_xscale('log')\n",
    "ax[0].grid(which='both')\n",
    "ax[0].set_ylabel('Magnitude (dB)')\n",
    "ax[0].set_xlabel('Frequency (Hz)')\n",
    "ax[0].legend(frameon=True)\n",
    "\n",
    "ax[1].plot(ff_p_gauss, dB(sf_p_cos2) - dB(sf_p_gauss),label='Difference')\n",
    "ax[1].set_xlim(1e8, 2e12)\n",
    "ax[1].set_ylim(-50,80)\n",
    "ax[1].set_xscale('log')\n",
    "ax[1].grid(which='both')\n",
    "ax[1].set_ylabel('Magnitude (dB)')\n",
    "ax[1].set_xlabel('Frequency (Hz)')\n",
    "ax[1].legend(frameon=True)\n",
    "\n",
    "plt.tight_layout()\n",
    "plt.savefig('ideal_freq_domain_cos2vsgauss.png',format='png',dpi=300)"
   ]
  },
  {
   "cell_type": "markdown",
   "metadata": {},
   "source": [
    "# ok now with electrons also"
   ]
  },
  {
   "cell_type": "code",
   "execution_count": null,
   "metadata": {},
   "outputs": [],
   "source": [
    "sigma_p = 0.25e-9\n",
    "sigma_e = 1e-12\n",
    "Np = 3e11\n",
    "Ne = coulomb_to_N(0.6e-9)\n",
    "\n",
    "tscale = np.linspace(-10*sigma_p, 10*sigma_p, 2**26)"
   ]
  },
  {
   "cell_type": "code",
   "execution_count": null,
   "metadata": {},
   "outputs": [],
   "source": [
    "dt = np.abs(tscale[1]-tscale[0])\n",
    "yy_p_cos2 = cos2_current(tscale, Np, sigma_p)\n",
    "yy_p_gauss = current(tscale, Np, 0., sigma_p)\n",
    "yy_e = current(tscale, Ne, 0., sigma_e)"
   ]
  },
  {
   "cell_type": "code",
   "execution_count": null,
   "metadata": {},
   "outputs": [],
   "source": [
    "fig, ax = plt.subplots(1, dpi=100)\n",
    "ax.plot(1e9*tscale, yy_p_cos2,label='Cos^2 distr.')\n",
    "ax.plot(1e9*tscale, yy_p_gauss,label='Gauss distr.')\n",
    "ax.plot(1e9*tscale, yy_e,label='Electrons')\n",
    "ax.set_xlim(-1,1)\n",
    "# ax.set_ylim(-50,30)\n",
    "# ax.set_xscale('log')\n",
    "ax.grid(which='both')\n",
    "ax.set_ylabel('Bunch current (A)')\n",
    "ax.set_xlabel('Time (ns)')\n",
    "ax.legend(frameon=True)\n",
    "plt.savefig('ideal_time_domain.png',format='png',dpi=300)"
   ]
  },
  {
   "cell_type": "code",
   "execution_count": null,
   "metadata": {},
   "outputs": [],
   "source": [
    "ff_p_cos2, sf_p_cos2 = doFFT(tscale,yy_p_cos2)\n",
    "ff_p_gauss, sf_p_gauss = doFFT(tscale,yy_p_gauss)\n",
    "ff_e, sf_e = doFFT(tscale,yy_e)"
   ]
  },
  {
   "cell_type": "code",
   "execution_count": null,
   "metadata": {},
   "outputs": [],
   "source": [
    "fig, ax = plt.subplots(1, dpi=100)\n",
    "ax.plot(ff_e, dB(sf_e),label='Electrons')\n",
    "ax.plot(ff_p_cos2, dB(sf_p_cos2),label='Proton Cos^2 distr.')\n",
    "ax.plot(ff_p_gauss, dB(sf_p_gauss),label='ProtonGauss distr.')\n",
    "ax.set_xlim(1e8, 2e12)\n",
    "ax.set_ylim(-50,30)\n",
    "ax.set_xscale('log')\n",
    "ax.grid(which='both')\n",
    "ax.set_ylabel('Magnitude (dB)')\n",
    "ax.set_xlabel('Frequency (Hz)')\n",
    "ax.legend(frameon=True)\n",
    "plt.savefig('ideal_freq_domain.png',format='png',dpi=300)"
   ]
  },
  {
   "cell_type": "code",
   "execution_count": null,
   "metadata": {},
   "outputs": [],
   "source": []
  },
  {
   "cell_type": "code",
   "execution_count": null,
   "metadata": {},
   "outputs": [],
   "source": []
  }
 ],
 "metadata": {
  "kernelspec": {
   "display_name": "Python 3",
   "language": "python",
   "name": "python3"
  },
  "language_info": {
   "codemirror_mode": {
    "name": "ipython",
    "version": 3
   },
   "file_extension": ".py",
   "mimetype": "text/x-python",
   "name": "python",
   "nbconvert_exporter": "python",
   "pygments_lexer": "ipython3",
   "version": "3.7.1"
  }
 },
 "nbformat": 4,
 "nbformat_minor": 2
}
