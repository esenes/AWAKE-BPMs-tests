{
 "cells": [
  {
   "cell_type": "markdown",
   "metadata": {},
   "source": [
    "# Preliminary studies --> the working version\n",
    "\n",
    "**!!! The deal was: !!!** the time window has to be constant for both the beams, else it will pump energy somewhere in the spectrum because of the periodicity assumption in the DFT\n",
    "\n",
    "CAVEAT:\n",
    "arrays here are ~2^30 long, so first think and then evaluate the cell"
   ]
  },
  {
   "cell_type": "code",
   "execution_count": 1,
   "metadata": {},
   "outputs": [],
   "source": [
    "import numpy as np\n",
    "import matplotlib.pyplot as plt\n",
    "%matplotlib inline"
   ]
  },
  {
   "cell_type": "code",
   "execution_count": 2,
   "metadata": {},
   "outputs": [],
   "source": [
    "def current(x, N, mu, sig):\n",
    "    from scipy.constants import e\n",
    "    return e*N/((sig*np.sqrt(np.pi*2))) * np.exp(-0.5*((x-mu)/sig)**2)\n",
    "\n",
    "def dB(x):\n",
    "    return 20*np.log10(x)"
   ]
  },
  {
   "cell_type": "markdown",
   "metadata": {},
   "source": [
    "# Test with sinusoids"
   ]
  },
  {
   "cell_type": "code",
   "execution_count": 3,
   "metadata": {},
   "outputs": [],
   "source": [
    "def doFFT(t, y):\n",
    "    assert t.size == y.size\n",
    "    dt = np.abs(t[1]-t[0])\n",
    "    N_sample = t.size\n",
    "    \n",
    "    norm = 2/N_sample\n",
    "    \n",
    "    s_fft = norm*np.abs(np.fft.fft(y))\n",
    "    f_fft = np.fft.fftfreq(N_sample, d=dt)\n",
    "    df = np.abs(f_fft[1]-f_fft[0])\n",
    "\n",
    "    return f_fft, s_fft"
   ]
  },
  {
   "cell_type": "code",
   "execution_count": null,
   "metadata": {},
   "outputs": [],
   "source": [
    "tt = np.linspace(-10e-3, 10e-3, 2**14)\n",
    "y1 = 1*np.sin(tt*2*np.pi*1e3)\n",
    "y2 = 10*np.sin(tt*2*np.pi*0.5e3)\n",
    "y3 = 100*np.sin(tt*2*np.pi*2e3+np.pi)\n",
    "\n",
    "yy = y1+y2+y3\n",
    "\n",
    "plt.plot(tt,yy)"
   ]
  },
  {
   "cell_type": "code",
   "execution_count": null,
   "metadata": {},
   "outputs": [],
   "source": [
    "ff, sf = doFFT(tt,yy)\n",
    "\n",
    "plt.plot(ff, dB(sf))\n",
    "plt.xlim(1e2, 1e4)\n",
    "plt.ylim(-10,41)\n",
    "plt.xscale('log')\n",
    "plt.grid(which='both')\n",
    "plt.ylabel('Magnitude (dB)')\n",
    "plt.xlabel('Frequency (Hz)')"
   ]
  },
  {
   "cell_type": "markdown",
   "metadata": {},
   "source": [
    "# check the invariance for number of samples"
   ]
  },
  {
   "cell_type": "code",
   "execution_count": null,
   "metadata": {},
   "outputs": [],
   "source": [
    "tt1 = np.linspace(-10e-3, 10e-3, 2**14)\n",
    "y1 = 1*np.sin(tt1*2*np.pi*1e3)\n",
    "tt2 = np.linspace(-10e-3, 10e-3, 2**20)\n",
    "y2 = 1*np.sin(tt2*2*np.pi*1e3)"
   ]
  },
  {
   "cell_type": "code",
   "execution_count": null,
   "metadata": {},
   "outputs": [],
   "source": [
    "f1, sf1 = doFFT(tt1, y1)\n",
    "plt.plot(f1, dB(sf1))\n",
    "plt.xlim(1e2, 1e4)\n",
    "plt.ylim(-10,41)\n",
    "plt.xscale('log')\n",
    "plt.grid(which='both')\n",
    "plt.ylabel('Magnitude (dB)')\n",
    "plt.xlabel('Frequency (Hz)')\n",
    "print(np.max(dB(sf1)))"
   ]
  },
  {
   "cell_type": "code",
   "execution_count": null,
   "metadata": {},
   "outputs": [],
   "source": [
    "f2, sf2 = doFFT(tt2, y2)\n",
    "plt.plot(f2, dB(sf2))\n",
    "plt.xlim(1e2, 1e4)\n",
    "plt.ylim(-10,41)\n",
    "plt.xscale('log')\n",
    "plt.grid(which='both')\n",
    "plt.ylabel('Magnitude (dB)')\n",
    "plt.xlabel('Frequency (Hz)')\n",
    "print(np.max(dB(sf2)))"
   ]
  },
  {
   "cell_type": "markdown",
   "metadata": {},
   "source": [
    "# A beam prototype"
   ]
  },
  {
   "cell_type": "code",
   "execution_count": null,
   "metadata": {},
   "outputs": [],
   "source": [
    "sigma_p = 0.25e-9\n",
    "sigma_e = 0.25e-12\n",
    "Np = 3e11\n",
    "Ne = 1e9\n",
    "\n",
    "tscale = np.linspace(-10*sigma_p, 10*sigma_p, 2**25)"
   ]
  },
  {
   "cell_type": "code",
   "execution_count": null,
   "metadata": {},
   "outputs": [],
   "source": [
    "np.abs(tscale[1]-tscale[0])"
   ]
  },
  {
   "cell_type": "code",
   "execution_count": null,
   "metadata": {},
   "outputs": [],
   "source": [
    "dt = np.abs(tscale[1]-tscale[0])\n",
    "yy_p = current(tscale, Np, 0., sigma_p)\n",
    "yy_e = current(tscale, Ne, 0., sigma_e)"
   ]
  },
  {
   "cell_type": "code",
   "execution_count": null,
   "metadata": {},
   "outputs": [],
   "source": [
    "fig, ax = plt.subplots(1, dpi=100)\n",
    "ax.plot(1e9*tscale, yy_e,label='Electrons')\n",
    "ax.plot(1e9*tscale, yy_p,label='Protons')\n",
    "ax.set_xlim(-1,1)\n",
    "# ax.set_ylim(-50,30)\n",
    "# ax.set_xscale('log')\n",
    "ax.grid(which='both')\n",
    "ax.set_ylabel('Current (A)')\n",
    "ax.set_xlabel('Time (ns)')\n",
    "ax.legend(frameon=True)\n",
    "plt.savefig('ideal_time_domain.png',format='png',dpi=300)"
   ]
  },
  {
   "cell_type": "code",
   "execution_count": null,
   "metadata": {},
   "outputs": [],
   "source": [
    "ff_p, sf_p = doFFT(tscale,yy_p)\n",
    "ff_e, sf_e = doFFT(tscale,yy_e)"
   ]
  },
  {
   "cell_type": "code",
   "execution_count": null,
   "metadata": {},
   "outputs": [],
   "source": [
    "fig, ax = plt.subplots(1, dpi=100)\n",
    "ax.plot(ff_e, dB(sf_e),label='Electrons')\n",
    "ax.plot(ff_p, dB(sf_p),label='Protons')\n",
    "ax.set_xlim(1e8, 2e12)\n",
    "ax.set_ylim(-50,30)\n",
    "ax.set_xscale('log')\n",
    "ax.grid(which='both')\n",
    "ax.set_ylabel('Magnitude (dB)')\n",
    "ax.set_xlabel('Frequency (Hz)')\n",
    "ax.legend(frameon=True)\n",
    "plt.savefig('ideal_freq_domain.png',format='png',dpi=300)"
   ]
  },
  {
   "cell_type": "markdown",
   "metadata": {},
   "source": [
    "# Some more beams for the presentation"
   ]
  },
  {
   "cell_type": "code",
   "execution_count": 4,
   "metadata": {},
   "outputs": [],
   "source": [
    "def coulomb_to_N(charge):\n",
    "    '''\n",
    "    Total bunch charge [C] to number of particles per bunch N\n",
    "    '''\n",
    "    from scipy.constants import e\n",
    "    return charge/e"
   ]
  },
  {
   "cell_type": "code",
   "execution_count": 5,
   "metadata": {},
   "outputs": [
    {
     "data": {
      "text/plain": [
       "4.8065298624000003e-08"
      ]
     },
     "execution_count": 5,
     "metadata": {},
     "output_type": "execute_result"
    }
   ],
   "source": [
    "from scipy.constants import e as unit_charge\n",
    "(3e11*unit_charge)"
   ]
  },
  {
   "cell_type": "code",
   "execution_count": 6,
   "metadata": {},
   "outputs": [
    {
     "name": "stdout",
     "output_type": "stream",
     "text": [
      "N for e- beams (units of 1e9)\n",
      "3.7449054755299547\n",
      "0.9986414601413213\n",
      "0.6241509125883258\n",
      "Charge for p+ beams\n",
      "4.8065298624000003e-08\n"
     ]
    }
   ],
   "source": [
    "#e- beams\n",
    "print('N for e- beams (units of 1e9)')\n",
    "print(coulomb_to_N(600e-12)*1e-9)\n",
    "print(coulomb_to_N(160e-12)*1e-9)\n",
    "print(coulomb_to_N(100e-12)*1e-9)\n",
    "print('Charge for p+ beams')\n",
    "print(3e11*unit_charge)\n"
   ]
  },
  {
   "cell_type": "code",
   "execution_count": 7,
   "metadata": {},
   "outputs": [],
   "source": [
    "sigma_p = 1e-9/4.\n",
    "tscale = np.linspace(-10*sigma_p, 10*sigma_p, 2**26)\n",
    "\n",
    "Np = 3e11\n",
    "# sigma_p = 1e-9/4.\n",
    "yy_p = current(tscale, Np, 0., sigma_p)\n",
    "\n",
    "# another variant: proton 1e11, same length\n",
    "Np_1 = 1e11\n",
    "sigma_p_1 = 1e-9/4.\n",
    "yy_p_1 = current(tscale, Np_1, 0., sigma_p_1)\n",
    "\n",
    "# electron variants\n",
    "Ne_1 = coulomb_to_N(0.1e-9)\n",
    "sigma_e_1 = 4e-12/4.\n",
    "yy_e_1 = current(tscale, Ne_1, 0., sigma_e_1)\n",
    "\n",
    "Ne_2 = coulomb_to_N(0.6e-9)\n",
    "sigma_e_2 = 4e-12/4.\n",
    "yy_e_2 = current(tscale, Ne_2, 0., sigma_e_2)\n",
    "\n",
    "Ne_3 = coulomb_to_N(0.6e-9)\n",
    "sigma_e_3 = 6e-12/4.\n",
    "yy_e_3 = current(tscale, Ne_3, 0., sigma_e_3)"
   ]
  },
  {
   "cell_type": "code",
   "execution_count": null,
   "metadata": {},
   "outputs": [],
   "source": [
    "ff_p, sf_p = doFFT(tscale,yy_p)\n",
    "ff_p_1, sf_p_1 = doFFT(tscale,yy_p_1)\n",
    "ff_e_1, sf_e_1 = doFFT(tscale,yy_e_1)\n",
    "ff_e_2, sf_e_2 = doFFT(tscale,yy_e_2)\n",
    "ff_e_3, sf_e_3 = doFFT(tscale,yy_e_3)"
   ]
  },
  {
   "cell_type": "code",
   "execution_count": null,
   "metadata": {},
   "outputs": [],
   "source": [
    "fig, ax = plt.subplots(1, dpi=100)\n",
    "ax.plot(ff_e_1, dB(sf_e_1),label='Electrons, 100 pC, 4 ps long')\n",
    "ax.plot(ff_e_2, dB(sf_e_2),label='Electrons, 600 pC, 4 ps long')\n",
    "ax.plot(ff_e_3, dB(sf_e_3),label='Electrons, 600 pC, 6 ps long')\n",
    "\n",
    "ax.plot(ff_p, dB(sf_p),label='Protons, 3e11 ppb, 1 ns long')\n",
    "ax.plot(ff_p_1, dB(sf_p_1),label='Protons, 1e11 ppb, 1 ns long')\n",
    "\n",
    "ax.set_xlim(1e8, 2e12)\n",
    "ax.set_ylim(-50,30)\n",
    "ax.set_xscale('log')\n",
    "ax.grid(which='both')\n",
    "ax.set_ylabel('Magnitude (dB)')\n",
    "ax.set_xlabel('Frequency (Hz)')\n",
    "ax.legend(frameon=True)\n",
    "plt.savefig('ideal_various_cases.png',format='png',dpi=300)"
   ]
  },
  {
   "cell_type": "markdown",
   "metadata": {},
   "source": [
    "# Ideal stipline pickup response\n",
    "## Protons"
   ]
  },
  {
   "cell_type": "code",
   "execution_count": null,
   "metadata": {},
   "outputs": [],
   "source": [
    "# protons\n",
    "from scipy.constants import c\n",
    "Np = 3e11\n",
    "sigma_p = 1e-9/4.\n",
    "PU_len = 120e-3*2/c\n",
    "\n",
    "tscale = np.linspace(-50*sigma_p, 50*sigma_p, 2**25)\n",
    "\n",
    "signal_neg = current(tscale, Np, -PU_len/2, sigma_p)\n",
    "signal_pos = -1.*current(tscale, Np, PU_len/2, sigma_p)\n",
    "yy = signal_pos + signal_neg\n",
    "\n",
    "fig, ax = plt.subplots(1, dpi=100)\n",
    "ax.plot(1e9*tscale, signal_pos,label='Reflected signal')\n",
    "ax.plot(1e9*tscale, signal_neg,label='Forward signal')\n",
    "ax.plot(1e9*tscale, yy,label='Result')\n",
    "ax.set_xlabel('Time (ns)')\n",
    "ax.set_ylabel('Current (A)')\n",
    "ax.set_xlim(-1.5,1.5)\n",
    "ax.legend(frameon=True)\n",
    "ax.grid(which='both')\n",
    "plt.savefig('stripline_p_signals.png',fomat='png',dpi=300)"
   ]
  },
  {
   "cell_type": "code",
   "execution_count": null,
   "metadata": {},
   "outputs": [],
   "source": [
    "ff, sf = doFFT(tscale, yy)\n",
    "ff_fw, sf_fw = doFFT(tscale, signal_neg)"
   ]
  },
  {
   "cell_type": "code",
   "execution_count": null,
   "metadata": {},
   "outputs": [],
   "source": [
    "sf_db = dB(sf)\n",
    "sf_fw_bd = dB(sf_fw)"
   ]
  },
  {
   "cell_type": "code",
   "execution_count": null,
   "metadata": {},
   "outputs": [],
   "source": [
    "fig, ax = plt.subplots(1, dpi=100)\n",
    "ax.plot(ff, sf_db,label='Result')\n",
    "ax.plot(ff_fw, sf_fw_bd,label='Forward')\n",
    "\n",
    "ax.set_xlim(1e8, 1e10)\n",
    "ax.set_ylim(-100, )\n",
    "ax.set_xscale('log')\n",
    "ax.grid(which='both')\n",
    "ax.set_ylabel('Magnitude (dB)')\n",
    "ax.set_xlabel('Frequency (Hz)')\n",
    "ax.legend(frameon=True)\n",
    "plt.savefig('stripline_p_freqs.png',format='png',dpi=300)"
   ]
  },
  {
   "cell_type": "markdown",
   "metadata": {},
   "source": [
    "## Electrons"
   ]
  },
  {
   "cell_type": "code",
   "execution_count": null,
   "metadata": {},
   "outputs": [],
   "source": [
    "# electrons\n",
    "from scipy.constants import c\n",
    "Ne = 1e9\n",
    "sigma_e = 1e-12/4.\n",
    "PU_len = 120e-3*2/c\n",
    "\n",
    "# tscale = np.linspace(-50*sigma_p, 50*sigma_p, 2**25)\n",
    "\n",
    "signal_neg = current(tscale, Ne, -PU_len/2, sigma_e)\n",
    "signal_pos = -1.*current(tscale, Ne, PU_len/2, sigma_e)\n",
    "yy = signal_pos + signal_neg\n",
    "\n",
    "fig, ax = plt.subplots(1, dpi=100)\n",
    "ax.plot(1e9*tscale, signal_pos,label='Reflected signal')\n",
    "ax.plot(1e9*tscale, signal_neg,label='Forward signal')\n",
    "ax.plot(1e9*tscale, yy,label='Result')\n",
    "ax.set_xlabel('Time (ns)')\n",
    "ax.set_ylabel('Current (A)')\n",
    "ax.set_xlim(-1,1)\n",
    "ax.legend(frameon=True)\n",
    "ax.grid(which='both')\n",
    "plt.savefig('stripline_e_signals.png',fomat='png',dpi=300)"
   ]
  },
  {
   "cell_type": "code",
   "execution_count": null,
   "metadata": {},
   "outputs": [],
   "source": [
    "ff, sf = doFFT(tscale, yy)\n",
    "ff_fw, sf_fw = doFFT(tscale, signal_neg)"
   ]
  },
  {
   "cell_type": "code",
   "execution_count": null,
   "metadata": {},
   "outputs": [],
   "source": [
    "sf_db = dB(sf)\n",
    "sf_fw_bd = dB(sf_fw)"
   ]
  },
  {
   "cell_type": "code",
   "execution_count": null,
   "metadata": {},
   "outputs": [],
   "source": [
    "fig, ax = plt.subplots(1, dpi=100)\n",
    "ax.plot(ff, sf_db,label='Result')\n",
    "ax.plot(ff_fw, sf_fw_bd,label='Forward')\n",
    "\n",
    "ax.set_xlim(1e8, 1e10)\n",
    "ax.set_ylim(-80, )\n",
    "ax.set_xscale('log')\n",
    "ax.grid(which='both')\n",
    "ax.set_ylabel('Magnitude (dB)')\n",
    "ax.set_xlabel('Frequency (Hz)')\n",
    "ax.legend(frameon=True)\n",
    "plt.savefig('stripline_e_freqs.png',format='png',dpi=300)"
   ]
  },
  {
   "cell_type": "code",
   "execution_count": null,
   "metadata": {},
   "outputs": [],
   "source": [
    "# didactical\n",
    "from scipy.constants import c\n",
    "Ne = 3e11\n",
    "sigma_e = .1e-9/4.\n",
    "PU_len = 120e-3*2/c\n",
    "\n",
    "# tscale = np.linspace(-50*sigma_p, 50*sigma_p, 2**25)\n",
    "\n",
    "signal_neg = current(tscale, Ne, -PU_len/2, sigma_e)\n",
    "signal_pos = -1.*current(tscale, Ne, PU_len/2, sigma_e)\n",
    "yy = signal_pos + signal_neg\n",
    "\n",
    "fig, ax = plt.subplots(1, dpi=100)\n",
    "ax.plot(1e9*tscale, signal_pos,label='Reflected signal')\n",
    "ax.plot(1e9*tscale, signal_neg,label='Forward signal')\n",
    "ax.plot(1e9*tscale, yy,label='Result')\n",
    "ax.set_xlabel('Time (ns)')\n",
    "ax.set_ylabel('Signal (arb.u.)')\n",
    "ax.set_xlim(-1,1)\n",
    "ax.legend(frameon=True)\n",
    "ax.grid(which='both')\n",
    "plt.savefig('stripline_didactical_signals.png',fomat='png',dpi=300)"
   ]
  },
  {
   "cell_type": "code",
   "execution_count": null,
   "metadata": {},
   "outputs": [],
   "source": [
    "ff, sf = doFFT(tscale, yy)\n",
    "ff_fw, sf_fw = doFFT(tscale, signal_neg)"
   ]
  },
  {
   "cell_type": "code",
   "execution_count": null,
   "metadata": {},
   "outputs": [],
   "source": [
    "sf_db = dB(sf)\n",
    "sf_fw_bd = dB(sf_fw)"
   ]
  },
  {
   "cell_type": "code",
   "execution_count": null,
   "metadata": {},
   "outputs": [],
   "source": [
    "fig, ax = plt.subplots(1, dpi=100)\n",
    "ax.plot(ff, sf_db,label='Result')\n",
    "ax.plot(ff_fw, sf_fw_bd,label='Forward')\n",
    "\n",
    "ax.set_xlim(1e8, 4e10)\n",
    "ax.set_ylim(-80, )\n",
    "ax.set_xscale('log')\n",
    "ax.grid(which='both')\n",
    "ax.set_ylabel('Magnitude (dB)')\n",
    "ax.set_xlabel('Frequency (Hz)')\n",
    "ax.legend(frameon=True)\n",
    "plt.savefig('stripline_didactical_freqs.png',format='png',dpi=300)"
   ]
  },
  {
   "cell_type": "code",
   "execution_count": null,
   "metadata": {},
   "outputs": [],
   "source": []
  }
 ],
 "metadata": {
  "kernelspec": {
   "display_name": "Python 3",
   "language": "python",
   "name": "python3"
  },
  "language_info": {
   "codemirror_mode": {
    "name": "ipython",
    "version": 3
   },
   "file_extension": ".py",
   "mimetype": "text/x-python",
   "name": "python",
   "nbconvert_exporter": "python",
   "pygments_lexer": "ipython3",
   "version": "3.6.6"
  }
 },
 "nbformat": 4,
 "nbformat_minor": 2
}
