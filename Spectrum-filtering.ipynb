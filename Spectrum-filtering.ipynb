{
 "cells": [
  {
   "cell_type": "markdown",
   "metadata": {},
   "source": [
    "# Spectrum filtering\n",
    "\n",
    "Let's try with different components of the spectrum to see how do they contribute to the signal"
   ]
  },
  {
   "cell_type": "code",
   "execution_count": 21,
   "metadata": {},
   "outputs": [],
   "source": [
    "import glob\n",
    "import numpy as np\n",
    "from scipy import fftpack\n",
    "# %matplotlib notebook\n",
    "%matplotlib inline\n",
    "import matplotlib.pyplot as plt \n",
    "from matplotlib.backends.backend_pdf import PdfPages\n",
    "import pandas as pnd\n",
    "import scipy as scp\n",
    "import scipy.signal"
   ]
  },
  {
   "cell_type": "code",
   "execution_count": 6,
   "metadata": {},
   "outputs": [],
   "source": [
    "folders = ['0_setup_protons',\n",
    "'1_protons_1e11_both_ch',\n",
    "'2_protons_1e11_ch1_high_BW',\n",
    "'3_protons_1e11_both_untiltheend',\n",
    "'4_electrons_600pC_ch1_high_BW',\n",
    "'5_electrons_600pC_ch1_both_ch',\n",
    "'6_electrons_steering_both_ch_reference',\n",
    "'7_electrons_steering_both_ch_-5mm',\n",
    "'8_electrons_steering_both_ch_0',\n",
    "'9_electrons_steering_both_ch_+5mm',\n",
    "'10_protons_2e11_2ch',\n",
    "'11_protons_2e11_ch1_high_BW',\n",
    "'12_protons+electrons_2ch_simultaneous',\n",
    "'13_protons+electrons_ch1_simultaneous',\n",
    "'14_protons+electrons_2ch_simultaneous_electron_bump+5mm',\n",
    "'15_protons+electrons_2ch_simultaneous_electron_bump-5mm',\n",
    "'16_protons+electrons_1ch_simultaneous_electron_bump-5mm',\n",
    "'17_protons+electrons_1ch_simultaneous_electron_bump_in_centre',\n",
    "'18_protons+electrons_1ch_simultaneous_electron_bump+5mm',\n",
    "'19_electrons_ahead_3ns_zoom',\n",
    "'20_electrons_ahead_2ch',\n",
    "'21_electrons_ahead_3ns_ch1',\n",
    "'22_electrons_behind_3ns_2ch',\n",
    "'23_electrons_behind_3ns_ch1',\n",
    "'24_until_the_last_proton_beam_alone_2ch']\n",
    "\n",
    "paths = ['./data/'+f+'/*.txt' for f in folders]\n",
    "\n",
    "files = [sorted(glob.glob(p)) for p in paths]"
   ]
  },
  {
   "cell_type": "code",
   "execution_count": 7,
   "metadata": {},
   "outputs": [],
   "source": [
    "def gimme(data_path, header_len=5):\n",
    "    '''\n",
    "    Produce the output of the single file analysis:\n",
    "    \n",
    "    data_path: the file including path\n",
    "    \n",
    "    data[0]: the timescale of the trace\n",
    "    data[1]: the signal of the trace\n",
    "    t_sampl: the sampling time\n",
    "    freqs: the FFT frequency scale (the x axis in practice)\n",
    "    f_spectrum_complex: the FFT output. Complex numbers.\n",
    "    f_spectrum_abs: the FFT output. Complex numbers.\n",
    "\n",
    "    '''\n",
    "    data = np.loadtxt(data_path, delimiter=' ', skiprows=header_len)\n",
    "    data = data.transpose()\n",
    "    t_sampl = np.abs(data[0][0]-data[0][1])\n",
    "    \n",
    "    f_spectrum_complex = fftpack.fft(data[1])\n",
    "    freqs = fftpack.fftfreq(data[1].size, d=t_sampl )\n",
    "    \n",
    "    f_spectrum_abs = np.abs(f_spectrum_complex)\n",
    "    \n",
    "    return data[0], data[1], t_sampl, freqs, f_spectrum_complex, f_spectrum_abs\n"
   ]
  },
  {
   "cell_type": "code",
   "execution_count": 9,
   "metadata": {},
   "outputs": [],
   "source": [
    "k=0\n",
    "ch1 = gimme(files[5][k])\n",
    "ch2 = gimme(files[5][off+k])\n"
   ]
  },
  {
   "cell_type": "code",
   "execution_count": 23,
   "metadata": {},
   "outputs": [
    {
     "ename": "SyntaxError",
     "evalue": "invalid character in identifier (<ipython-input-23-42f315e2e4fe>, line 5)",
     "output_type": "error",
     "traceback": [
      "\u001b[0;36m  File \u001b[0;32m\"<ipython-input-23-42f315e2e4fe>\"\u001b[0;36m, line \u001b[0;32m5\u001b[0m\n\u001b[0;31m    scp.signal.windows.gaussian(M, std, sym=True)[source]¶\u001b[0m\n\u001b[0m                                                         ^\u001b[0m\n\u001b[0;31mSyntaxError\u001b[0m\u001b[0;31m:\u001b[0m invalid character in identifier\n"
     ]
    }
   ],
   "source": [
    "tt = ch1[0]\n",
    "yy = ch1[1]\n",
    "plt.plot(tt, yy)\n",
    "\n",
    "scp.signal.windows.gaussian(M, std)"
   ]
  },
  {
   "cell_type": "code",
   "execution_count": 29,
   "metadata": {},
   "outputs": [
    {
     "data": {
      "text/plain": [
       "[<matplotlib.lines.Line2D at 0x1c264acac8>]"
      ]
     },
     "execution_count": 29,
     "metadata": {},
     "output_type": "execute_result"
    },
    {
     "data": {
      "image/png": "[encoded data removed]",
      "text/plain": [
       "<Figure size 432x288 with 1 Axes>"
      ]
     },
     "metadata": {
      "needs_background": "light"
     },
     "output_type": "display_data"
    }
   ],
   "source": [
    "plt.plot(scp.signal.windows.gaussian(10, 1))"
   ]
  },
  {
   "cell_type": "code",
   "execution_count": null,
   "metadata": {},
   "outputs": [],
   "source": []
  }
 ],
 "metadata": {
  "kernelspec": {
   "display_name": "Python 3",
   "language": "python",
   "name": "python3"
  },
  "language_info": {
   "codemirror_mode": {
    "name": "ipython",
    "version": 3
   },
   "file_extension": ".py",
   "mimetype": "text/x-python",
   "name": "python",
   "nbconvert_exporter": "python",
   "pygments_lexer": "ipython3",
   "version": "3.6.6"
  }
 },
 "nbformat": 4,
 "nbformat_minor": 2
}
