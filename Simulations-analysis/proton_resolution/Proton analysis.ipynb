{
 "cells": [
  {
   "cell_type": "code",
   "execution_count": 94,
   "metadata": {},
   "outputs": [
    {
     "name": "stdout",
     "output_type": "stream",
     "text": [
      "Version 0.1\n",
      "Please report bugs to eugenio.senes@cern.ch\n",
      "Use at your own risk.\n"
     ]
    }
   ],
   "source": [
    "%run ~/work/PhD-utils/CST-tools.py"
   ]
  },
  {
   "cell_type": "code",
   "execution_count": 95,
   "metadata": {},
   "outputs": [],
   "source": [
    "fpath = '/Users/esenes/work/AWAKE-BPMs-tests/Simulations-analysis/proton_resolution/'\n",
    "\n",
    "# time domain filenames\n",
    "f_comp = ['port1.txt']"
   ]
  },
  {
   "cell_type": "code",
   "execution_count": 96,
   "metadata": {},
   "outputs": [],
   "source": [
    "data, flags = read_CST_param_results(fpath+f_comp[0], verbose=False)"
   ]
  },
  {
   "cell_type": "code",
   "execution_count": 113,
   "metadata": {},
   "outputs": [],
   "source": [
    "def find_single_param(header, param_name, verbose=True):\n",
    "    '''\n",
    "    Find a single parameter value in the header\n",
    "\n",
    "    Inputs:\n",
    "    - header:       the string containing the full header\n",
    "    - param_name:   the name to search\n",
    "    - verbose:      print info during processing\n",
    "\n",
    "    Outputs:\n",
    "    - value:        the parameter value\n",
    "\n",
    "    Assumes that the data structure contains '   ... param_name=value ; ...'\n",
    "    and that the header starts with '#Parameters ='\n",
    "\n",
    "    Last modified: 09.04.2019 by Eugenio Senes\n",
    "    '''\n",
    "    header = header[0] # flatten\n",
    "    if header[:13]=='#Parameters =':\n",
    "        print(header) if verbose else None\n",
    "        for par in header.split('; '):\n",
    "            if par[0:len(param_name)] == param_name:\n",
    "#                 return par\n",
    "                return float(par[len(param_name)+1:]) #+1 to skip the =\n",
    "    else:\n",
    "        print('Parameter not found in the list')\n",
    "        return None\n",
    "    "
   ]
  },
  {
   "cell_type": "code",
   "execution_count": 115,
   "metadata": {},
   "outputs": [
    {
     "name": "stdout",
     "output_type": "stream",
     "text": [
      "#Parameters = {Bore_diameter=60; Length_overall=132; PU_angle=38; PU_straight_len=105.5; PU_thickness=1.65; angle_around_nose=11.5; angle_slot_sustain=9.65; beam_charg=4.8e-08; beam_sigma=75; beam_x=-25; beam_y=-15; bottom_angle=4.28; chamber_height=6.81; dielec_diam=2; empty_space_after_nose_end=6; endcap_len=10; max_sim_f=12; nose_len=20.5; nose_tickness=6.31; pin_depth=1; pin_heigh=25; pin_pos_from_nose_end=2; pin_radius=0.5; slot_angle=6.35; top_angle=10.85}\n",
      "\n"
     ]
    },
    {
     "data": {
      "text/plain": [
       "-15.0"
      ]
     },
     "execution_count": 115,
     "metadata": {},
     "output_type": "execute_result"
    }
   ],
   "source": [
    "find_single_param(data[0],'beam_y')"
   ]
  },
  {
   "cell_type": "code",
   "execution_count": 52,
   "metadata": {},
   "outputs": [],
   "source": [
    "heads = data[[not(f) for f in flags]]"
   ]
  },
  {
   "cell_type": "code",
   "execution_count": 53,
   "metadata": {},
   "outputs": [
    {
     "data": {
      "text/plain": [
       "True"
      ]
     },
     "execution_count": 53,
     "metadata": {},
     "output_type": "execute_result"
    }
   ],
   "source": [
    "heads[0][0][:13]=='#Parameters ='"
   ]
  },
  {
   "cell_type": "code",
   "execution_count": 54,
   "metadata": {},
   "outputs": [
    {
     "name": "stdout",
     "output_type": "stream",
     "text": [
      "#Parameters = {Bore_diameter=60; Length_overall=132; PU_angle=38; PU_straight_len=105.5; PU_thickness=1.65; angle_around_nose=11.5; angle_slot_sustain=9.65; beam_charg=4.8e-08; beam_sigma=75; beam_x=-25; beam_y=-15; bottom_angle=4.28; chamber_height=6.81; dielec_diam=2; empty_space_after_nose_end=6; endcap_len=10; max_sim_f=12; nose_len=20.5; nose_tickness=6.31; pin_depth=1; pin_heigh=25; pin_pos_from_nose_end=2; pin_radius=0.5; slot_angle=6.35; top_angle=10.85}\n",
      "\n",
      "#Parameters = {Bore_diameter=60; Length_overall=132; PU_angle=38; PU_straight_len=105.5; PU_thickness=1.65; angle_around_nose=11.5; angle_slot_sustain=9.65; beam_charg=4.8e-08; beam_sigma=75; beam_x=-25; beam_y=-15; bottom_angle=4.28; chamber_height=6.81; dielec_diam=2; empty_space_after_nose_end=6; endcap_len=10; max_sim_f=12; nose_len=20.5; nose_tickness=6.31; pin_depth=1; pin_heigh=25; pin_pos_from_nose_end=2; pin_radius=0.5; slot_angle=6.35; top_angle=10.85}\n",
      "\n"
     ]
    }
   ],
   "source": [
    "find_single_param(data[0],'')"
   ]
  },
  {
   "cell_type": "code",
   "execution_count": 99,
   "metadata": {},
   "outputs": [
    {
     "data": {
      "text/plain": [
       "['#Parameters = {Bore_diameter=60',\n",
       " 'Length_overall=132',\n",
       " 'PU_angle=38',\n",
       " 'PU_straight_len=105.5',\n",
       " 'PU_thickness=1.65',\n",
       " 'angle_around_nose=11.5',\n",
       " 'angle_slot_sustain=9.65',\n",
       " 'beam_charg=4.8e-08',\n",
       " 'beam_sigma=75',\n",
       " 'beam_x=-25',\n",
       " 'beam_y=-15',\n",
       " 'bottom_angle=4.28',\n",
       " 'chamber_height=6.81',\n",
       " 'dielec_diam=2',\n",
       " 'empty_space_after_nose_end=6',\n",
       " 'endcap_len=10',\n",
       " 'max_sim_f=12',\n",
       " 'nose_len=20.5',\n",
       " 'nose_tickness=6.31',\n",
       " 'pin_depth=1',\n",
       " 'pin_heigh=25',\n",
       " 'pin_pos_from_nose_end=2',\n",
       " 'pin_radius=0.5',\n",
       " 'slot_angle=6.35',\n",
       " 'top_angle=10.85}\\n']"
      ]
     },
     "execution_count": 99,
     "metadata": {},
     "output_type": "execute_result"
    }
   ],
   "source": [
    "data[0][0].split('; ')"
   ]
  },
  {
   "cell_type": "code",
   "execution_count": 100,
   "metadata": {},
   "outputs": [
    {
     "name": "stdout",
     "output_type": "stream",
     "text": [
      "6.0\n"
     ]
    }
   ],
   "source": [
    "param = 'empty_space_after_nose_end'\n",
    "for par in data[0][0].split('; '):\n",
    "    if par[0:len(param)] == param:\n",
    "        print(float(par[len(param)+1:])) #skip the =\n"
   ]
  },
  {
   "cell_type": "code",
   "execution_count": null,
   "metadata": {},
   "outputs": [],
   "source": []
  }
 ],
 "metadata": {
  "kernelspec": {
   "display_name": "Python 3",
   "language": "python",
   "name": "python3"
  },
  "language_info": {
   "codemirror_mode": {
    "name": "ipython",
    "version": 3
   },
   "file_extension": ".py",
   "mimetype": "text/x-python",
   "name": "python",
   "nbconvert_exporter": "python",
   "pygments_lexer": "ipython3",
   "version": "3.7.1"
  }
 },
 "nbformat": 4,
 "nbformat_minor": 2
}
