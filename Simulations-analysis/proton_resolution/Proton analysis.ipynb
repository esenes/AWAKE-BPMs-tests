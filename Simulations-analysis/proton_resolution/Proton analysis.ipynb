{
 "cells": [
  {
   "cell_type": "code",
   "execution_count": 165,
   "metadata": {},
   "outputs": [
    {
     "name": "stdout",
     "output_type": "stream",
     "text": [
      "Version 0.1\n",
      "Please report bugs to eugenio.senes@cern.ch\n",
      "Use at your own risk.\n"
     ]
    }
   ],
   "source": [
    "%run ~/work/PhD-utils/CST-tools.py\n",
    "import matplotlib.pyplot as plt\n",
    "%matplotlib inline"
   ]
  },
  {
   "cell_type": "code",
   "execution_count": 154,
   "metadata": {},
   "outputs": [],
   "source": [
    "fpath = '/Users/esenes/work/AWAKE-BPMs-tests/Simulations-analysis/proton_resolution/'\n",
    "\n",
    "# time domain filenames\n",
    "f_comp = ['port1.txt', 'port2.txt', 'port3.txt', 'port4.txt']"
   ]
  },
  {
   "cell_type": "code",
   "execution_count": 162,
   "metadata": {
    "scrolled": true
   },
   "outputs": [],
   "source": [
    "# scan the param space of a file\n",
    "data, flags = read_CST_param_results(fpath+f_comp[0], verbose=False)\n",
    "\n",
    "beam_x = []\n",
    "beam_y = []\n",
    "for k in range(len(data)):\n",
    "    val = find_single_param(data[k],'beam_x', verbose=False)\n",
    "    val is not np.nan and beam_x.append(val)\n",
    "    val = find_single_param(data[k],'beam_y', verbose=False)\n",
    "    val is not np.nan and beam_y.append(val)        "
   ]
  },
  {
   "cell_type": "code",
   "execution_count": 167,
   "metadata": {},
   "outputs": [
    {
     "data": {
      "text/plain": [
       "[<matplotlib.lines.Line2D at 0x1234e0a90>]"
      ]
     },
     "execution_count": 167,
     "metadata": {},
     "output_type": "execute_result"
    },
    {
     "data": {
      "image/png": "[encoded data removed]",
      "text/plain": [
       "<Figure size 432x288 with 1 Axes>"
      ]
     },
     "metadata": {
      "needs_background": "light"
     },
     "output_type": "display_data"
    }
   ],
   "source": [
    "plt.plot(beam_y,'-o')\n",
    "plt.plot(beam_x,'-o')"
   ]
  },
  {
   "cell_type": "markdown",
   "metadata": {},
   "source": [
    "# Create a dataframe"
   ]
  },
  {
   "cell_type": "code",
   "execution_count": 182,
   "metadata": {},
   "outputs": [],
   "source": [
    "data = create_empty_dataframe(param_values=range(len(beam_x)), column_names=['port1','port2','port3','port4'])\n",
    "data['beam_x']=beam_x\n",
    "data['beam_y']=beam_y"
   ]
  },
  {
   "cell_type": "code",
   "execution_count": 183,
   "metadata": {},
   "outputs": [],
   "source": [
    "# fill up the dataframe\n",
    "for f in f_comp:\n",
    "    out, flag = read_CST_param_results(fpath+f, verbose=False)\n",
    "    data[f.strip('.txt')] = out[flag]\n"
   ]
  },
  {
   "cell_type": "code",
   "execution_count": 185,
   "metadata": {},
   "outputs": [
    {
     "data": {
      "text/html": [
       "<div>\n",
       "<style scoped>\n",
       "    .dataframe tbody tr th:only-of-type {\n",
       "        vertical-align: middle;\n",
       "    }\n",
       "\n",
       "    .dataframe tbody tr th {\n",
       "        vertical-align: top;\n",
       "    }\n",
       "\n",
       "    .dataframe thead th {\n",
       "        text-align: right;\n",
       "    }\n",
       "</style>\n",
       "<table border=\"1\" class=\"dataframe\">\n",
       "  <thead>\n",
       "    <tr style=\"text-align: right;\">\n",
       "      <th></th>\n",
       "      <th>port1</th>\n",
       "      <th>port2</th>\n",
       "      <th>port3</th>\n",
       "      <th>port4</th>\n",
       "      <th>beam_x</th>\n",
       "      <th>beam_y</th>\n",
       "    </tr>\n",
       "  </thead>\n",
       "  <tbody>\n",
       "    <tr>\n",
       "      <th>0</th>\n",
       "      <td>[[0.0, 0.0012740618549287, 0.0025481237098575,...</td>\n",
       "      <td>[[0.0, 0.0012740618549287, 0.0025481237098575,...</td>\n",
       "      <td>[[0.0, 0.0012740618549287, 0.0025481237098575,...</td>\n",
       "      <td>[[0.0, 0.0012740618549287, 0.0025481237098575,...</td>\n",
       "      <td>-25.0</td>\n",
       "      <td>-15.0</td>\n",
       "    </tr>\n",
       "    <tr>\n",
       "      <th>1</th>\n",
       "      <td>[[0.0, 0.00077750463970006, 0.0015550092794001...</td>\n",
       "      <td>[[0.0, 0.00077750463970006, 0.0015550092794001...</td>\n",
       "      <td>[[0.0, 0.00077750463970006, 0.0015550092794001...</td>\n",
       "      <td>[[0.0, 0.00077750463970006, 0.0015550092794001...</td>\n",
       "      <td>-25.0</td>\n",
       "      <td>-10.0</td>\n",
       "    </tr>\n",
       "    <tr>\n",
       "      <th>2</th>\n",
       "      <td>[[0.0, 0.00078661856241524, 0.0015732371248305...</td>\n",
       "      <td>[[0.0, 0.00078661856241524, 0.0015732371248305...</td>\n",
       "      <td>[[0.0, 0.00078661856241524, 0.0015732371248305...</td>\n",
       "      <td>[[0.0, 0.00078661856241524, 0.0015732371248305...</td>\n",
       "      <td>-25.0</td>\n",
       "      <td>-5.0</td>\n",
       "    </tr>\n",
       "    <tr>\n",
       "      <th>3</th>\n",
       "      <td>[[0.0, 0.0007866186206229, 0.0015732372412458,...</td>\n",
       "      <td>[[0.0, 0.0007866186206229, 0.0015732372412458,...</td>\n",
       "      <td>[[0.0, 0.0007866186206229, 0.0015732372412458,...</td>\n",
       "      <td>[[0.0, 0.0007866186206229, 0.0015732372412458,...</td>\n",
       "      <td>-25.0</td>\n",
       "      <td>0.0</td>\n",
       "    </tr>\n",
       "    <tr>\n",
       "      <th>4</th>\n",
       "      <td>[[0.0, 0.00078661856241524, 0.0015732371248305...</td>\n",
       "      <td>[[0.0, 0.00078661856241524, 0.0015732371248305...</td>\n",
       "      <td>[[0.0, 0.00078661856241524, 0.0015732371248305...</td>\n",
       "      <td>[[0.0, 0.00078661856241524, 0.0015732371248305...</td>\n",
       "      <td>-25.0</td>\n",
       "      <td>5.0</td>\n",
       "    </tr>\n",
       "  </tbody>\n",
       "</table>\n",
       "</div>"
      ],
      "text/plain": [
       "                                               port1  \\\n",
       "0  [[0.0, 0.0012740618549287, 0.0025481237098575,...   \n",
       "1  [[0.0, 0.00077750463970006, 0.0015550092794001...   \n",
       "2  [[0.0, 0.00078661856241524, 0.0015732371248305...   \n",
       "3  [[0.0, 0.0007866186206229, 0.0015732372412458,...   \n",
       "4  [[0.0, 0.00078661856241524, 0.0015732371248305...   \n",
       "\n",
       "                                               port2  \\\n",
       "0  [[0.0, 0.0012740618549287, 0.0025481237098575,...   \n",
       "1  [[0.0, 0.00077750463970006, 0.0015550092794001...   \n",
       "2  [[0.0, 0.00078661856241524, 0.0015732371248305...   \n",
       "3  [[0.0, 0.0007866186206229, 0.0015732372412458,...   \n",
       "4  [[0.0, 0.00078661856241524, 0.0015732371248305...   \n",
       "\n",
       "                                               port3  \\\n",
       "0  [[0.0, 0.0012740618549287, 0.0025481237098575,...   \n",
       "1  [[0.0, 0.00077750463970006, 0.0015550092794001...   \n",
       "2  [[0.0, 0.00078661856241524, 0.0015732371248305...   \n",
       "3  [[0.0, 0.0007866186206229, 0.0015732372412458,...   \n",
       "4  [[0.0, 0.00078661856241524, 0.0015732371248305...   \n",
       "\n",
       "                                               port4  beam_x  beam_y  \n",
       "0  [[0.0, 0.0012740618549287, 0.0025481237098575,...   -25.0   -15.0  \n",
       "1  [[0.0, 0.00077750463970006, 0.0015550092794001...   -25.0   -10.0  \n",
       "2  [[0.0, 0.00078661856241524, 0.0015732371248305...   -25.0    -5.0  \n",
       "3  [[0.0, 0.0007866186206229, 0.0015732372412458,...   -25.0     0.0  \n",
       "4  [[0.0, 0.00078661856241524, 0.0015732371248305...   -25.0     5.0  "
      ]
     },
     "execution_count": 185,
     "metadata": {},
     "output_type": "execute_result"
    }
   ],
   "source": [
    "data.head()"
   ]
  },
  {
   "cell_type": "markdown",
   "metadata": {},
   "source": [
    "# Calculate delta/sigma"
   ]
  },
  {
   "cell_type": "code",
   "execution_count": 221,
   "metadata": {},
   "outputs": [],
   "source": [
    "def delta_sigma(port1, port2):\n",
    "    p1 = np.std(port1)\n",
    "    p2 = np.std(port2)\n",
    "    return (p1-p2)/(p1+p2)"
   ]
  },
  {
   "cell_type": "code",
   "execution_count": 225,
   "metadata": {
    "scrolled": false
   },
   "outputs": [
    {
     "name": "stderr",
     "output_type": "stream",
     "text": [
      "/anaconda3/lib/python3.7/site-packages/pandas/core/indexing.py:189: SettingWithCopyWarning: \n",
      "A value is trying to be set on a copy of a slice from a DataFrame\n",
      "\n",
      "See the caveats in the documentation: http://pandas.pydata.org/pandas-docs/stable/indexing.html#indexing-view-versus-copy\n",
      "  self._setitem_with_indexer(indexer, value)\n"
     ]
    }
   ],
   "source": [
    "data['delta_sigma'] = np.nan\n",
    "for lab in data.index:\n",
    "    data['delta_sigma'].loc[lab] = delta_sigma(data['port1'].loc[lab][1], data['port2'].loc[lab][1])"
   ]
  },
  {
   "cell_type": "code",
   "execution_count": 226,
   "metadata": {},
   "outputs": [
    {
     "data": {
      "text/plain": [
       "[<matplotlib.lines.Line2D at 0x123f684e0>]"
      ]
     },
     "execution_count": 226,
     "metadata": {},
     "output_type": "execute_result"
    },
    {
     "data": {
      "image/png": "[encoded data removed]",
      "text/plain": [
       "<Figure size 432x288 with 1 Axes>"
      ]
     },
     "metadata": {
      "needs_background": "light"
     },
     "output_type": "display_data"
    }
   ],
   "source": [
    "plt.plot(data['delta_sigma'])"
   ]
  },
  {
   "cell_type": "code",
   "execution_count": null,
   "metadata": {},
   "outputs": [],
   "source": []
  },
  {
   "cell_type": "code",
   "execution_count": null,
   "metadata": {},
   "outputs": [],
   "source": []
  }
 ],
 "metadata": {
  "kernelspec": {
   "display_name": "Python 3",
   "language": "python",
   "name": "python3"
  },
  "language_info": {
   "codemirror_mode": {
    "name": "ipython",
    "version": 3
   },
   "file_extension": ".py",
   "mimetype": "text/x-python",
   "name": "python",
   "nbconvert_exporter": "python",
   "pygments_lexer": "ipython3",
   "version": "3.7.1"
  }
 },
 "nbformat": 4,
 "nbformat_minor": 2
}
